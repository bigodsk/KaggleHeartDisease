{
 "cells": [
  {
   "cell_type": "markdown",
   "id": "5e4dabf9",
   "metadata": {},
   "source": [
    "# Setup"
   ]
  },
  {
   "cell_type": "code",
   "execution_count": 304,
   "id": "0bd00ded",
   "metadata": {},
   "outputs": [],
   "source": [
    "import numpy as np\n",
    "import pandas as pd\n",
    "import matplotlib.pyplot as plt\n",
    "%matplotlib inline\n",
    "import seaborn as sns\n",
    "sns.set_style('whitegrid')"
   ]
  },
  {
   "cell_type": "code",
   "execution_count": 366,
   "id": "9b0c3778",
   "metadata": {},
   "outputs": [],
   "source": [
    "from sklearn.model_selection import train_test_split\n",
    "from sklearn.metrics import accuracy_score, classification_report, confusion_matrix, plot_confusion_matrix, roc_auc_score, roc_curve\n",
    "from sklearn.preprocessing import StandardScaler\n",
    "\n",
    "from sklearn import model_selection, tree, preprocessing, metrics, linear_model\n",
    "from sklearn.linear_model import LogisticRegression\n",
    "from sklearn.tree import DecisionTreeClassifier\n",
    "from sklearn.ensemble import AdaBoostClassifier, RandomForestClassifier\n",
    "from sklearn.neighbors import KNeighborsClassifier\n",
    "\n",
    "from sklearn.model_selection import StratifiedKFold\n",
    "from catboost import CatBoostClassifier, Pool, cv\n",
    "from sklearn.model_selection import GridSearchCV\n",
    "\n",
    "import xgboost as xgb"
   ]
  },
  {
   "cell_type": "markdown",
   "id": "84c629cf",
   "metadata": {},
   "source": [
    "# Data Description"
   ]
  },
  {
   "cell_type": "markdown",
   "id": "9a2429bb",
   "metadata": {},
   "source": [
    "## Heart Diseases\n",
    "* age\n",
    "* sex (1=male, 0=female)\n",
    "* chest pain type (4 values)\n",
    "* resting blood pressure\n",
    "* serum cholestoral in mg/dl\n",
    "* fasting blood sugar > 120 mg/dl\n",
    "* resting electrocardiographic results (values 0,1,2)\n",
    "* maximum heart rate achieved\n",
    "* exercise induced angina\n",
    "* oldpeak = ST depression induced by exercise relative to rest\n",
    "* the slope of the peak exercise ST segment\n",
    "* number of major vessels (0-3) colored by flourosopy\n",
    "* thal: 0 = normal; 1 = fixed defect; 2 = reversable defect\n",
    "* The names and social security numbers of the patients were recently removed from the database, replaced with dummy values.\n",
    "* target: 0=no, 1=yes\n",
    "\n"
   ]
  },
  {
   "cell_type": "markdown",
   "id": "dfc21f1d",
   "metadata": {},
   "source": [
    "# Importing Dataset"
   ]
  },
  {
   "cell_type": "code",
   "execution_count": 241,
   "id": "b063e6eb",
   "metadata": {},
   "outputs": [
    {
     "data": {
      "text/html": [
       "<div>\n",
       "<style scoped>\n",
       "    .dataframe tbody tr th:only-of-type {\n",
       "        vertical-align: middle;\n",
       "    }\n",
       "\n",
       "    .dataframe tbody tr th {\n",
       "        vertical-align: top;\n",
       "    }\n",
       "\n",
       "    .dataframe thead th {\n",
       "        text-align: right;\n",
       "    }\n",
       "</style>\n",
       "<table border=\"1\" class=\"dataframe\">\n",
       "  <thead>\n",
       "    <tr style=\"text-align: right;\">\n",
       "      <th></th>\n",
       "      <th>age</th>\n",
       "      <th>sex</th>\n",
       "      <th>cp</th>\n",
       "      <th>trestbps</th>\n",
       "      <th>chol</th>\n",
       "      <th>fbs</th>\n",
       "      <th>restecg</th>\n",
       "      <th>thalach</th>\n",
       "      <th>exang</th>\n",
       "      <th>oldpeak</th>\n",
       "      <th>slope</th>\n",
       "      <th>ca</th>\n",
       "      <th>thal</th>\n",
       "      <th>target</th>\n",
       "    </tr>\n",
       "  </thead>\n",
       "  <tbody>\n",
       "    <tr>\n",
       "      <th>0</th>\n",
       "      <td>52</td>\n",
       "      <td>1</td>\n",
       "      <td>0</td>\n",
       "      <td>125</td>\n",
       "      <td>212</td>\n",
       "      <td>0</td>\n",
       "      <td>1</td>\n",
       "      <td>168</td>\n",
       "      <td>0</td>\n",
       "      <td>1.0</td>\n",
       "      <td>2</td>\n",
       "      <td>2</td>\n",
       "      <td>3</td>\n",
       "      <td>0</td>\n",
       "    </tr>\n",
       "    <tr>\n",
       "      <th>1</th>\n",
       "      <td>53</td>\n",
       "      <td>1</td>\n",
       "      <td>0</td>\n",
       "      <td>140</td>\n",
       "      <td>203</td>\n",
       "      <td>1</td>\n",
       "      <td>0</td>\n",
       "      <td>155</td>\n",
       "      <td>1</td>\n",
       "      <td>3.1</td>\n",
       "      <td>0</td>\n",
       "      <td>0</td>\n",
       "      <td>3</td>\n",
       "      <td>0</td>\n",
       "    </tr>\n",
       "    <tr>\n",
       "      <th>2</th>\n",
       "      <td>70</td>\n",
       "      <td>1</td>\n",
       "      <td>0</td>\n",
       "      <td>145</td>\n",
       "      <td>174</td>\n",
       "      <td>0</td>\n",
       "      <td>1</td>\n",
       "      <td>125</td>\n",
       "      <td>1</td>\n",
       "      <td>2.6</td>\n",
       "      <td>0</td>\n",
       "      <td>0</td>\n",
       "      <td>3</td>\n",
       "      <td>0</td>\n",
       "    </tr>\n",
       "    <tr>\n",
       "      <th>3</th>\n",
       "      <td>61</td>\n",
       "      <td>1</td>\n",
       "      <td>0</td>\n",
       "      <td>148</td>\n",
       "      <td>203</td>\n",
       "      <td>0</td>\n",
       "      <td>1</td>\n",
       "      <td>161</td>\n",
       "      <td>0</td>\n",
       "      <td>0.0</td>\n",
       "      <td>2</td>\n",
       "      <td>1</td>\n",
       "      <td>3</td>\n",
       "      <td>0</td>\n",
       "    </tr>\n",
       "    <tr>\n",
       "      <th>4</th>\n",
       "      <td>62</td>\n",
       "      <td>0</td>\n",
       "      <td>0</td>\n",
       "      <td>138</td>\n",
       "      <td>294</td>\n",
       "      <td>1</td>\n",
       "      <td>1</td>\n",
       "      <td>106</td>\n",
       "      <td>0</td>\n",
       "      <td>1.9</td>\n",
       "      <td>1</td>\n",
       "      <td>3</td>\n",
       "      <td>2</td>\n",
       "      <td>0</td>\n",
       "    </tr>\n",
       "    <tr>\n",
       "      <th>...</th>\n",
       "      <td>...</td>\n",
       "      <td>...</td>\n",
       "      <td>...</td>\n",
       "      <td>...</td>\n",
       "      <td>...</td>\n",
       "      <td>...</td>\n",
       "      <td>...</td>\n",
       "      <td>...</td>\n",
       "      <td>...</td>\n",
       "      <td>...</td>\n",
       "      <td>...</td>\n",
       "      <td>...</td>\n",
       "      <td>...</td>\n",
       "      <td>...</td>\n",
       "    </tr>\n",
       "    <tr>\n",
       "      <th>1020</th>\n",
       "      <td>59</td>\n",
       "      <td>1</td>\n",
       "      <td>1</td>\n",
       "      <td>140</td>\n",
       "      <td>221</td>\n",
       "      <td>0</td>\n",
       "      <td>1</td>\n",
       "      <td>164</td>\n",
       "      <td>1</td>\n",
       "      <td>0.0</td>\n",
       "      <td>2</td>\n",
       "      <td>0</td>\n",
       "      <td>2</td>\n",
       "      <td>1</td>\n",
       "    </tr>\n",
       "    <tr>\n",
       "      <th>1021</th>\n",
       "      <td>60</td>\n",
       "      <td>1</td>\n",
       "      <td>0</td>\n",
       "      <td>125</td>\n",
       "      <td>258</td>\n",
       "      <td>0</td>\n",
       "      <td>0</td>\n",
       "      <td>141</td>\n",
       "      <td>1</td>\n",
       "      <td>2.8</td>\n",
       "      <td>1</td>\n",
       "      <td>1</td>\n",
       "      <td>3</td>\n",
       "      <td>0</td>\n",
       "    </tr>\n",
       "    <tr>\n",
       "      <th>1022</th>\n",
       "      <td>47</td>\n",
       "      <td>1</td>\n",
       "      <td>0</td>\n",
       "      <td>110</td>\n",
       "      <td>275</td>\n",
       "      <td>0</td>\n",
       "      <td>0</td>\n",
       "      <td>118</td>\n",
       "      <td>1</td>\n",
       "      <td>1.0</td>\n",
       "      <td>1</td>\n",
       "      <td>1</td>\n",
       "      <td>2</td>\n",
       "      <td>0</td>\n",
       "    </tr>\n",
       "    <tr>\n",
       "      <th>1023</th>\n",
       "      <td>50</td>\n",
       "      <td>0</td>\n",
       "      <td>0</td>\n",
       "      <td>110</td>\n",
       "      <td>254</td>\n",
       "      <td>0</td>\n",
       "      <td>0</td>\n",
       "      <td>159</td>\n",
       "      <td>0</td>\n",
       "      <td>0.0</td>\n",
       "      <td>2</td>\n",
       "      <td>0</td>\n",
       "      <td>2</td>\n",
       "      <td>1</td>\n",
       "    </tr>\n",
       "    <tr>\n",
       "      <th>1024</th>\n",
       "      <td>54</td>\n",
       "      <td>1</td>\n",
       "      <td>0</td>\n",
       "      <td>120</td>\n",
       "      <td>188</td>\n",
       "      <td>0</td>\n",
       "      <td>1</td>\n",
       "      <td>113</td>\n",
       "      <td>0</td>\n",
       "      <td>1.4</td>\n",
       "      <td>1</td>\n",
       "      <td>1</td>\n",
       "      <td>3</td>\n",
       "      <td>0</td>\n",
       "    </tr>\n",
       "  </tbody>\n",
       "</table>\n",
       "<p>1025 rows × 14 columns</p>\n",
       "</div>"
      ],
      "text/plain": [
       "      age  sex  cp  trestbps  chol  fbs  restecg  thalach  exang  oldpeak  \\\n",
       "0      52    1   0       125   212    0        1      168      0      1.0   \n",
       "1      53    1   0       140   203    1        0      155      1      3.1   \n",
       "2      70    1   0       145   174    0        1      125      1      2.6   \n",
       "3      61    1   0       148   203    0        1      161      0      0.0   \n",
       "4      62    0   0       138   294    1        1      106      0      1.9   \n",
       "...   ...  ...  ..       ...   ...  ...      ...      ...    ...      ...   \n",
       "1020   59    1   1       140   221    0        1      164      1      0.0   \n",
       "1021   60    1   0       125   258    0        0      141      1      2.8   \n",
       "1022   47    1   0       110   275    0        0      118      1      1.0   \n",
       "1023   50    0   0       110   254    0        0      159      0      0.0   \n",
       "1024   54    1   0       120   188    0        1      113      0      1.4   \n",
       "\n",
       "      slope  ca  thal  target  \n",
       "0         2   2     3       0  \n",
       "1         0   0     3       0  \n",
       "2         0   0     3       0  \n",
       "3         2   1     3       0  \n",
       "4         1   3     2       0  \n",
       "...     ...  ..   ...     ...  \n",
       "1020      2   0     2       1  \n",
       "1021      1   1     3       0  \n",
       "1022      1   1     2       0  \n",
       "1023      2   0     2       1  \n",
       "1024      1   1     3       0  \n",
       "\n",
       "[1025 rows x 14 columns]"
      ]
     },
     "execution_count": 241,
     "metadata": {},
     "output_type": "execute_result"
    }
   ],
   "source": [
    "df = pd.read_csv('data/heart.csv')\n",
    "df"
   ]
  },
  {
   "cell_type": "code",
   "execution_count": 242,
   "id": "a4544a7a",
   "metadata": {},
   "outputs": [
    {
     "name": "stdout",
     "output_type": "stream",
     "text": [
      "<class 'pandas.core.frame.DataFrame'>\n",
      "RangeIndex: 1025 entries, 0 to 1024\n",
      "Data columns (total 14 columns):\n",
      " #   Column    Non-Null Count  Dtype  \n",
      "---  ------    --------------  -----  \n",
      " 0   age       1025 non-null   int64  \n",
      " 1   sex       1025 non-null   int64  \n",
      " 2   cp        1025 non-null   int64  \n",
      " 3   trestbps  1025 non-null   int64  \n",
      " 4   chol      1025 non-null   int64  \n",
      " 5   fbs       1025 non-null   int64  \n",
      " 6   restecg   1025 non-null   int64  \n",
      " 7   thalach   1025 non-null   int64  \n",
      " 8   exang     1025 non-null   int64  \n",
      " 9   oldpeak   1025 non-null   float64\n",
      " 10  slope     1025 non-null   int64  \n",
      " 11  ca        1025 non-null   int64  \n",
      " 12  thal      1025 non-null   int64  \n",
      " 13  target    1025 non-null   int64  \n",
      "dtypes: float64(1), int64(13)\n",
      "memory usage: 112.2 KB\n"
     ]
    }
   ],
   "source": [
    "df.info()"
   ]
  },
  {
   "cell_type": "code",
   "execution_count": 243,
   "id": "561fc9b2",
   "metadata": {},
   "outputs": [
    {
     "data": {
      "text/plain": [
       "age         0\n",
       "sex         0\n",
       "cp          0\n",
       "trestbps    0\n",
       "chol        0\n",
       "fbs         0\n",
       "restecg     0\n",
       "thalach     0\n",
       "exang       0\n",
       "oldpeak     0\n",
       "slope       0\n",
       "ca          0\n",
       "thal        0\n",
       "target      0\n",
       "dtype: int64"
      ]
     },
     "execution_count": 243,
     "metadata": {},
     "output_type": "execute_result"
    }
   ],
   "source": [
    "df.isnull().sum()"
   ]
  },
  {
   "cell_type": "code",
   "execution_count": 244,
   "id": "a2393ea6",
   "metadata": {},
   "outputs": [
    {
     "data": {
      "text/plain": [
       "723"
      ]
     },
     "execution_count": 244,
     "metadata": {},
     "output_type": "execute_result"
    }
   ],
   "source": [
    "df.duplicated().sum()"
   ]
  },
  {
   "cell_type": "code",
   "execution_count": 245,
   "id": "a3ff6e23",
   "metadata": {},
   "outputs": [],
   "source": [
    "df = df.drop_duplicates()"
   ]
  },
  {
   "cell_type": "code",
   "execution_count": 246,
   "id": "5e806e0f",
   "metadata": {},
   "outputs": [
    {
     "data": {
      "text/plain": [
       "0"
      ]
     },
     "execution_count": 246,
     "metadata": {},
     "output_type": "execute_result"
    }
   ],
   "source": [
    "df.duplicated().sum()"
   ]
  },
  {
   "cell_type": "code",
   "execution_count": 247,
   "id": "72178a8c",
   "metadata": {},
   "outputs": [
    {
     "data": {
      "text/html": [
       "<div>\n",
       "<style scoped>\n",
       "    .dataframe tbody tr th:only-of-type {\n",
       "        vertical-align: middle;\n",
       "    }\n",
       "\n",
       "    .dataframe tbody tr th {\n",
       "        vertical-align: top;\n",
       "    }\n",
       "\n",
       "    .dataframe thead th {\n",
       "        text-align: right;\n",
       "    }\n",
       "</style>\n",
       "<table border=\"1\" class=\"dataframe\">\n",
       "  <thead>\n",
       "    <tr style=\"text-align: right;\">\n",
       "      <th></th>\n",
       "      <th>age</th>\n",
       "      <th>sex</th>\n",
       "      <th>cp</th>\n",
       "      <th>trestbps</th>\n",
       "      <th>chol</th>\n",
       "      <th>fbs</th>\n",
       "      <th>restecg</th>\n",
       "      <th>thalach</th>\n",
       "      <th>exang</th>\n",
       "      <th>oldpeak</th>\n",
       "      <th>slope</th>\n",
       "      <th>ca</th>\n",
       "      <th>thal</th>\n",
       "      <th>target</th>\n",
       "    </tr>\n",
       "  </thead>\n",
       "  <tbody>\n",
       "    <tr>\n",
       "      <th>count</th>\n",
       "      <td>302.00000</td>\n",
       "      <td>302.000000</td>\n",
       "      <td>302.000000</td>\n",
       "      <td>302.000000</td>\n",
       "      <td>302.000000</td>\n",
       "      <td>302.000000</td>\n",
       "      <td>302.000000</td>\n",
       "      <td>302.000000</td>\n",
       "      <td>302.000000</td>\n",
       "      <td>302.000000</td>\n",
       "      <td>302.000000</td>\n",
       "      <td>302.000000</td>\n",
       "      <td>302.000000</td>\n",
       "      <td>302.000000</td>\n",
       "    </tr>\n",
       "    <tr>\n",
       "      <th>mean</th>\n",
       "      <td>54.42053</td>\n",
       "      <td>0.682119</td>\n",
       "      <td>0.963576</td>\n",
       "      <td>131.602649</td>\n",
       "      <td>246.500000</td>\n",
       "      <td>0.149007</td>\n",
       "      <td>0.526490</td>\n",
       "      <td>149.569536</td>\n",
       "      <td>0.327815</td>\n",
       "      <td>1.043046</td>\n",
       "      <td>1.397351</td>\n",
       "      <td>0.718543</td>\n",
       "      <td>2.314570</td>\n",
       "      <td>0.543046</td>\n",
       "    </tr>\n",
       "    <tr>\n",
       "      <th>std</th>\n",
       "      <td>9.04797</td>\n",
       "      <td>0.466426</td>\n",
       "      <td>1.032044</td>\n",
       "      <td>17.563394</td>\n",
       "      <td>51.753489</td>\n",
       "      <td>0.356686</td>\n",
       "      <td>0.526027</td>\n",
       "      <td>22.903527</td>\n",
       "      <td>0.470196</td>\n",
       "      <td>1.161452</td>\n",
       "      <td>0.616274</td>\n",
       "      <td>1.006748</td>\n",
       "      <td>0.613026</td>\n",
       "      <td>0.498970</td>\n",
       "    </tr>\n",
       "    <tr>\n",
       "      <th>min</th>\n",
       "      <td>29.00000</td>\n",
       "      <td>0.000000</td>\n",
       "      <td>0.000000</td>\n",
       "      <td>94.000000</td>\n",
       "      <td>126.000000</td>\n",
       "      <td>0.000000</td>\n",
       "      <td>0.000000</td>\n",
       "      <td>71.000000</td>\n",
       "      <td>0.000000</td>\n",
       "      <td>0.000000</td>\n",
       "      <td>0.000000</td>\n",
       "      <td>0.000000</td>\n",
       "      <td>0.000000</td>\n",
       "      <td>0.000000</td>\n",
       "    </tr>\n",
       "    <tr>\n",
       "      <th>25%</th>\n",
       "      <td>48.00000</td>\n",
       "      <td>0.000000</td>\n",
       "      <td>0.000000</td>\n",
       "      <td>120.000000</td>\n",
       "      <td>211.000000</td>\n",
       "      <td>0.000000</td>\n",
       "      <td>0.000000</td>\n",
       "      <td>133.250000</td>\n",
       "      <td>0.000000</td>\n",
       "      <td>0.000000</td>\n",
       "      <td>1.000000</td>\n",
       "      <td>0.000000</td>\n",
       "      <td>2.000000</td>\n",
       "      <td>0.000000</td>\n",
       "    </tr>\n",
       "    <tr>\n",
       "      <th>50%</th>\n",
       "      <td>55.50000</td>\n",
       "      <td>1.000000</td>\n",
       "      <td>1.000000</td>\n",
       "      <td>130.000000</td>\n",
       "      <td>240.500000</td>\n",
       "      <td>0.000000</td>\n",
       "      <td>1.000000</td>\n",
       "      <td>152.500000</td>\n",
       "      <td>0.000000</td>\n",
       "      <td>0.800000</td>\n",
       "      <td>1.000000</td>\n",
       "      <td>0.000000</td>\n",
       "      <td>2.000000</td>\n",
       "      <td>1.000000</td>\n",
       "    </tr>\n",
       "    <tr>\n",
       "      <th>75%</th>\n",
       "      <td>61.00000</td>\n",
       "      <td>1.000000</td>\n",
       "      <td>2.000000</td>\n",
       "      <td>140.000000</td>\n",
       "      <td>274.750000</td>\n",
       "      <td>0.000000</td>\n",
       "      <td>1.000000</td>\n",
       "      <td>166.000000</td>\n",
       "      <td>1.000000</td>\n",
       "      <td>1.600000</td>\n",
       "      <td>2.000000</td>\n",
       "      <td>1.000000</td>\n",
       "      <td>3.000000</td>\n",
       "      <td>1.000000</td>\n",
       "    </tr>\n",
       "    <tr>\n",
       "      <th>max</th>\n",
       "      <td>77.00000</td>\n",
       "      <td>1.000000</td>\n",
       "      <td>3.000000</td>\n",
       "      <td>200.000000</td>\n",
       "      <td>564.000000</td>\n",
       "      <td>1.000000</td>\n",
       "      <td>2.000000</td>\n",
       "      <td>202.000000</td>\n",
       "      <td>1.000000</td>\n",
       "      <td>6.200000</td>\n",
       "      <td>2.000000</td>\n",
       "      <td>4.000000</td>\n",
       "      <td>3.000000</td>\n",
       "      <td>1.000000</td>\n",
       "    </tr>\n",
       "  </tbody>\n",
       "</table>\n",
       "</div>"
      ],
      "text/plain": [
       "             age         sex          cp    trestbps        chol         fbs  \\\n",
       "count  302.00000  302.000000  302.000000  302.000000  302.000000  302.000000   \n",
       "mean    54.42053    0.682119    0.963576  131.602649  246.500000    0.149007   \n",
       "std      9.04797    0.466426    1.032044   17.563394   51.753489    0.356686   \n",
       "min     29.00000    0.000000    0.000000   94.000000  126.000000    0.000000   \n",
       "25%     48.00000    0.000000    0.000000  120.000000  211.000000    0.000000   \n",
       "50%     55.50000    1.000000    1.000000  130.000000  240.500000    0.000000   \n",
       "75%     61.00000    1.000000    2.000000  140.000000  274.750000    0.000000   \n",
       "max     77.00000    1.000000    3.000000  200.000000  564.000000    1.000000   \n",
       "\n",
       "          restecg     thalach       exang     oldpeak       slope          ca  \\\n",
       "count  302.000000  302.000000  302.000000  302.000000  302.000000  302.000000   \n",
       "mean     0.526490  149.569536    0.327815    1.043046    1.397351    0.718543   \n",
       "std      0.526027   22.903527    0.470196    1.161452    0.616274    1.006748   \n",
       "min      0.000000   71.000000    0.000000    0.000000    0.000000    0.000000   \n",
       "25%      0.000000  133.250000    0.000000    0.000000    1.000000    0.000000   \n",
       "50%      1.000000  152.500000    0.000000    0.800000    1.000000    0.000000   \n",
       "75%      1.000000  166.000000    1.000000    1.600000    2.000000    1.000000   \n",
       "max      2.000000  202.000000    1.000000    6.200000    2.000000    4.000000   \n",
       "\n",
       "             thal      target  \n",
       "count  302.000000  302.000000  \n",
       "mean     2.314570    0.543046  \n",
       "std      0.613026    0.498970  \n",
       "min      0.000000    0.000000  \n",
       "25%      2.000000    0.000000  \n",
       "50%      2.000000    1.000000  \n",
       "75%      3.000000    1.000000  \n",
       "max      3.000000    1.000000  "
      ]
     },
     "execution_count": 247,
     "metadata": {},
     "output_type": "execute_result"
    }
   ],
   "source": [
    "df.describe()"
   ]
  },
  {
   "cell_type": "code",
   "execution_count": 248,
   "id": "c8d5a723",
   "metadata": {},
   "outputs": [
    {
     "data": {
      "text/plain": [
       "<AxesSubplot:>"
      ]
     },
     "execution_count": 248,
     "metadata": {},
     "output_type": "execute_result"
    },
    {
     "data": {
      "image/png": "[encoded data removed]",
      "text/plain": [
       "<Figure size 1152x648 with 2 Axes>"
      ]
     },
     "metadata": {},
     "output_type": "display_data"
    }
   ],
   "source": [
    "plt.figure(figsize=(16,9))\n",
    "sns.heatmap(df.corr(), annot=True, cmap='Blues')"
   ]
  },
  {
   "cell_type": "code",
   "execution_count": 249,
   "id": "36b24a6f",
   "metadata": {},
   "outputs": [
    {
     "data": {
      "text/html": [
       "<div>\n",
       "<style scoped>\n",
       "    .dataframe tbody tr th:only-of-type {\n",
       "        vertical-align: middle;\n",
       "    }\n",
       "\n",
       "    .dataframe tbody tr th {\n",
       "        vertical-align: top;\n",
       "    }\n",
       "\n",
       "    .dataframe thead th {\n",
       "        text-align: right;\n",
       "    }\n",
       "</style>\n",
       "<table border=\"1\" class=\"dataframe\">\n",
       "  <thead>\n",
       "    <tr style=\"text-align: right;\">\n",
       "      <th></th>\n",
       "      <th>age</th>\n",
       "      <th>sex</th>\n",
       "      <th>cp</th>\n",
       "      <th>trestbps</th>\n",
       "      <th>chol</th>\n",
       "      <th>fbs</th>\n",
       "      <th>restecg</th>\n",
       "      <th>thalach</th>\n",
       "      <th>exang</th>\n",
       "      <th>oldpeak</th>\n",
       "      <th>slope</th>\n",
       "      <th>ca</th>\n",
       "      <th>thal</th>\n",
       "      <th>target</th>\n",
       "    </tr>\n",
       "  </thead>\n",
       "  <tbody>\n",
       "    <tr>\n",
       "      <th>0</th>\n",
       "      <td>52</td>\n",
       "      <td>1</td>\n",
       "      <td>0</td>\n",
       "      <td>125</td>\n",
       "      <td>212</td>\n",
       "      <td>0</td>\n",
       "      <td>1</td>\n",
       "      <td>168</td>\n",
       "      <td>0</td>\n",
       "      <td>1.0</td>\n",
       "      <td>2</td>\n",
       "      <td>2</td>\n",
       "      <td>3</td>\n",
       "      <td>0</td>\n",
       "    </tr>\n",
       "    <tr>\n",
       "      <th>1</th>\n",
       "      <td>53</td>\n",
       "      <td>1</td>\n",
       "      <td>0</td>\n",
       "      <td>140</td>\n",
       "      <td>203</td>\n",
       "      <td>1</td>\n",
       "      <td>0</td>\n",
       "      <td>155</td>\n",
       "      <td>1</td>\n",
       "      <td>3.1</td>\n",
       "      <td>0</td>\n",
       "      <td>0</td>\n",
       "      <td>3</td>\n",
       "      <td>0</td>\n",
       "    </tr>\n",
       "  </tbody>\n",
       "</table>\n",
       "</div>"
      ],
      "text/plain": [
       "   age  sex  cp  trestbps  chol  fbs  restecg  thalach  exang  oldpeak  slope  \\\n",
       "0   52    1   0       125   212    0        1      168      0      1.0      2   \n",
       "1   53    1   0       140   203    1        0      155      1      3.1      0   \n",
       "\n",
       "   ca  thal  target  \n",
       "0   2     3       0  \n",
       "1   0     3       0  "
      ]
     },
     "execution_count": 249,
     "metadata": {},
     "output_type": "execute_result"
    }
   ],
   "source": [
    "df.head(2)"
   ]
  },
  {
   "cell_type": "code",
   "execution_count": 250,
   "id": "62a3497d",
   "metadata": {},
   "outputs": [
    {
     "name": "stdout",
     "output_type": "stream",
     "text": [
      "age: 41\n",
      "sex: 2\n",
      "cp: 4\n",
      "trestbps: 49\n",
      "chol: 152\n",
      "fbs: 2\n",
      "restecg: 3\n",
      "thalach: 91\n",
      "exang: 2\n",
      "oldpeak: 40\n",
      "slope: 3\n",
      "ca: 5\n",
      "thal: 4\n",
      "target: 2\n"
     ]
    }
   ],
   "source": [
    "for col in df.columns:\n",
    "    print(f'{col}: {df[col].nunique()}')"
   ]
  },
  {
   "cell_type": "code",
   "execution_count": 251,
   "id": "fa678fb5",
   "metadata": {},
   "outputs": [],
   "source": [
    "# i.e. the dataframe has the following categorical values\n",
    "categorical = ['sex', 'cp', 'fbs', 'restecg', 'exang', 'slope', 'ca', 'thal']\n",
    "quantitatives = ['age', 'trestbps', 'chol', 'thalach', 'oldpeak']"
   ]
  },
  {
   "cell_type": "code",
   "execution_count": 252,
   "id": "c12e8144",
   "metadata": {},
   "outputs": [
    {
     "data": {
      "image/png": "[encoded data removed]",
      "text/plain": [
       "<Figure size 576x288 with 1 Axes>"
      ]
     },
     "metadata": {},
     "output_type": "display_data"
    },
    {
     "data": {
      "image/png": "[encoded data removed]",
      "text/plain": [
       "<Figure size 576x288 with 1 Axes>"
      ]
     },
     "metadata": {},
     "output_type": "display_data"
    },
    {
     "data": {
      "image/png": "[encoded data removed]",
      "text/plain": [
       "<Figure size 576x288 with 1 Axes>"
      ]
     },
     "metadata": {},
     "output_type": "display_data"
    },
    {
     "data": {
      "image/png": "[encoded data removed]",
      "text/plain": [
       "<Figure size 576x288 with 1 Axes>"
      ]
     },
     "metadata": {},
     "output_type": "display_data"
    },
    {
     "data": {
      "image/png": "[encoded data removed]",
      "text/plain": [
       "<Figure size 576x288 with 1 Axes>"
      ]
     },
     "metadata": {},
     "output_type": "display_data"
    },
    {
     "data": {
      "image/png": "[encoded data removed]",
      "text/plain": [
       "<Figure size 576x288 with 1 Axes>"
      ]
     },
     "metadata": {},
     "output_type": "display_data"
    },
    {
     "data": {
      "image/png": "[encoded data removed]",
      "text/plain": [
       "<Figure size 576x288 with 1 Axes>"
      ]
     },
     "metadata": {},
     "output_type": "display_data"
    },
    {
     "data": {
      "image/png": "[encoded data removed]",
      "text/plain": [
       "<Figure size 576x288 with 1 Axes>"
      ]
     },
     "metadata": {},
     "output_type": "display_data"
    },
    {
     "data": {
      "image/png": "[encoded data removed]",
      "text/plain": [
       "<Figure size 576x288 with 1 Axes>"
      ]
     },
     "metadata": {},
     "output_type": "display_data"
    },
    {
     "data": {
      "image/png": "[encoded data removed]",
      "text/plain": [
       "<Figure size 576x288 with 1 Axes>"
      ]
     },
     "metadata": {},
     "output_type": "display_data"
    },
    {
     "data": {
      "image/png": "[encoded data removed]",
      "text/plain": [
       "<Figure size 576x288 with 1 Axes>"
      ]
     },
     "metadata": {},
     "output_type": "display_data"
    },
    {
     "data": {
      "image/png": "[encoded data removed]",
      "text/plain": [
       "<Figure size 576x288 with 1 Axes>"
      ]
     },
     "metadata": {},
     "output_type": "display_data"
    },
    {
     "data": {
      "image/png": "[encoded data removed]",
      "text/plain": [
       "<Figure size 576x288 with 1 Axes>"
      ]
     },
     "metadata": {},
     "output_type": "display_data"
    },
    {
     "data": {
      "image/png": "[encoded data removed]",
      "text/plain": [
       "<Figure size 576x288 with 1 Axes>"
      ]
     },
     "metadata": {},
     "output_type": "display_data"
    }
   ],
   "source": [
    "for col in df.columns:\n",
    "    plt.figure(figsize = (8,4))\n",
    "    plt.title(col, fontsize=16)\n",
    "    if col in categorical:\n",
    "        sns.countplot(x=df[col], hue=df['target'])\n",
    "    if col in quantitatives:\n",
    "        sns.histplot(df[col], kde=True)"
   ]
  },
  {
   "cell_type": "markdown",
   "id": "ac0986eb",
   "metadata": {},
   "source": [
    "# Removing Outliers"
   ]
  },
  {
   "cell_type": "code",
   "execution_count": 253,
   "id": "e7cdcaa4",
   "metadata": {},
   "outputs": [
    {
     "data": {
      "text/plain": [
       "<AxesSubplot:>"
      ]
     },
     "execution_count": 253,
     "metadata": {},
     "output_type": "execute_result"
    },
    {
     "data": {
      "image/png": "[encoded data removed]",
      "text/plain": [
       "<Figure size 1152x432 with 1 Axes>"
      ]
     },
     "metadata": {},
     "output_type": "display_data"
    }
   ],
   "source": [
    "plt.figure(figsize=(16,6))\n",
    "sns.boxplot(data=df)"
   ]
  },
  {
   "cell_type": "code",
   "execution_count": 254,
   "id": "93e41a90",
   "metadata": {},
   "outputs": [],
   "source": [
    "def get_outliers_and_info_from_df(df):\n",
    "    \n",
    "    '''This function returns a DataFrame with descriptive statistical \n",
    "    and informations about outliers from each individual feature\n",
    "    in the DataFrame df.\n",
    "    \n",
    "    Input: DataFrame\n",
    "    Output: DataFrame'''\n",
    "    \n",
    "    # creating arrays to use next\n",
    "    \n",
    "    Features_list, IIQ_list, Lower_lim_list = [],[],[]\n",
    "    Upper_lim_list, Outliers_list, Percent_list = [],[],[]\n",
    "    cols = []\n",
    "    \n",
    "    # selecting quantitative columns from df\n",
    "    \n",
    "\n",
    "    for i,j in enumerate(df.columns):\n",
    "\n",
    "        if df[j].dtypes == 'float64' or df[j].dtypes == 'int64':\n",
    "\n",
    "            cols.append(df.columns[i])\n",
    "        else:\n",
    "\n",
    "            pass     \n",
    "    \n",
    "    # creating a DataFrame of quantitatives features\n",
    "    \n",
    "    df = df[cols]\n",
    "\n",
    "\n",
    "    for feature in cols:\n",
    "\n",
    "        # calculate 1st quartile Q1\n",
    "\n",
    "        Q1 = df[feature].quantile(0.25)\n",
    "\n",
    "        # calculate 3rd quartile Q3\n",
    "\n",
    "        Q3 = df[feature].quantile(0.75)\n",
    "\n",
    "        # calculate interquartile range IIQ\n",
    "\n",
    "        IIQ = Q3 - Q1\n",
    "\n",
    "        # tolerance range\n",
    "\n",
    "        tolerance = 1.5 * IIQ\n",
    "\n",
    "        # calculate lower and upper limit\n",
    "\n",
    "        low_inf = Q1 - tolerance        \n",
    "        min_value = df[feature].min()\n",
    "        low_inf = max(low_inf, min_value)\n",
    "\n",
    "        up_lim = Q3 + tolerance\n",
    "        max_value = df[feature].max()\n",
    "        up_lim = min(up_lim, max_value)\n",
    "        \n",
    "\n",
    "        # create an array with the outliers\n",
    "    \n",
    "        outliers = []\n",
    "\n",
    "        for i in df.index:\n",
    "\n",
    "            if ((df[feature][i] > up_lim) == True):\n",
    "\n",
    "                outliers.append(df[feature][i])\n",
    "\n",
    "            elif ((df[feature][i] < low_inf) == True):\n",
    "\n",
    "                outliers.append(df[feature][i])\n",
    "\n",
    "            else:\n",
    "\n",
    "                pass\n",
    "\n",
    "        # calculate the total of ouliers\n",
    "\n",
    "        total_outliers = 0\n",
    "        total_outliers = len(outliers)\n",
    "\n",
    "        # calculate the percentage of outliers\n",
    "\n",
    "        porcent = (total_outliers/len(df.index)) * 100\n",
    "\n",
    "        # storing the founded results in to arrays\n",
    "         \n",
    "        Features_list.append(feature)\n",
    "        IIQ_list.append(IIQ)\n",
    "        Lower_lim_list.append(low_inf)\n",
    "        Upper_lim_list.append(up_lim)\n",
    "        Outliers_list.append(total_outliers)\n",
    "        Percent_list.append(porcent)\n",
    "      \n",
    "    # creating a resulting DataFrameCriando\n",
    "    \n",
    "    dic = {'Feature': Features_list, \n",
    "                  'IIQ': IIQ_list,\n",
    "                  'Lower_Lim': Lower_lim_list,\n",
    "                  'Upper_Lim': Upper_lim_list,\n",
    "                  'Outliers': Outliers_list,\n",
    "                  'Percentage_(%)': Percent_list}\n",
    "\n",
    "    df_ = pd.DataFrame(dic)\n",
    "    \n",
    "    # return the resulting DataFrame\n",
    "    \n",
    "    return df_"
   ]
  },
  {
   "cell_type": "code",
   "execution_count": 255,
   "id": "5804e8c0",
   "metadata": {},
   "outputs": [
    {
     "data": {
      "text/html": [
       "<div>\n",
       "<style scoped>\n",
       "    .dataframe tbody tr th:only-of-type {\n",
       "        vertical-align: middle;\n",
       "    }\n",
       "\n",
       "    .dataframe tbody tr th {\n",
       "        vertical-align: top;\n",
       "    }\n",
       "\n",
       "    .dataframe thead th {\n",
       "        text-align: right;\n",
       "    }\n",
       "</style>\n",
       "<table border=\"1\" class=\"dataframe\">\n",
       "  <thead>\n",
       "    <tr style=\"text-align: right;\">\n",
       "      <th></th>\n",
       "      <th>Feature</th>\n",
       "      <th>IIQ</th>\n",
       "      <th>Lower_Lim</th>\n",
       "      <th>Upper_Lim</th>\n",
       "      <th>Outliers</th>\n",
       "      <th>Percentage_(%)</th>\n",
       "    </tr>\n",
       "  </thead>\n",
       "  <tbody>\n",
       "    <tr>\n",
       "      <th>0</th>\n",
       "      <td>age</td>\n",
       "      <td>13.00</td>\n",
       "      <td>29.000</td>\n",
       "      <td>77.000</td>\n",
       "      <td>0</td>\n",
       "      <td>0.000000</td>\n",
       "    </tr>\n",
       "    <tr>\n",
       "      <th>1</th>\n",
       "      <td>sex</td>\n",
       "      <td>1.00</td>\n",
       "      <td>0.000</td>\n",
       "      <td>1.000</td>\n",
       "      <td>0</td>\n",
       "      <td>0.000000</td>\n",
       "    </tr>\n",
       "    <tr>\n",
       "      <th>2</th>\n",
       "      <td>cp</td>\n",
       "      <td>2.00</td>\n",
       "      <td>0.000</td>\n",
       "      <td>3.000</td>\n",
       "      <td>0</td>\n",
       "      <td>0.000000</td>\n",
       "    </tr>\n",
       "    <tr>\n",
       "      <th>3</th>\n",
       "      <td>trestbps</td>\n",
       "      <td>20.00</td>\n",
       "      <td>94.000</td>\n",
       "      <td>170.000</td>\n",
       "      <td>9</td>\n",
       "      <td>2.980132</td>\n",
       "    </tr>\n",
       "    <tr>\n",
       "      <th>4</th>\n",
       "      <td>chol</td>\n",
       "      <td>63.75</td>\n",
       "      <td>126.000</td>\n",
       "      <td>370.375</td>\n",
       "      <td>5</td>\n",
       "      <td>1.655629</td>\n",
       "    </tr>\n",
       "    <tr>\n",
       "      <th>5</th>\n",
       "      <td>fbs</td>\n",
       "      <td>0.00</td>\n",
       "      <td>0.000</td>\n",
       "      <td>0.000</td>\n",
       "      <td>45</td>\n",
       "      <td>14.900662</td>\n",
       "    </tr>\n",
       "    <tr>\n",
       "      <th>6</th>\n",
       "      <td>restecg</td>\n",
       "      <td>1.00</td>\n",
       "      <td>0.000</td>\n",
       "      <td>2.000</td>\n",
       "      <td>0</td>\n",
       "      <td>0.000000</td>\n",
       "    </tr>\n",
       "    <tr>\n",
       "      <th>7</th>\n",
       "      <td>thalach</td>\n",
       "      <td>32.75</td>\n",
       "      <td>84.125</td>\n",
       "      <td>202.000</td>\n",
       "      <td>1</td>\n",
       "      <td>0.331126</td>\n",
       "    </tr>\n",
       "    <tr>\n",
       "      <th>8</th>\n",
       "      <td>exang</td>\n",
       "      <td>1.00</td>\n",
       "      <td>0.000</td>\n",
       "      <td>1.000</td>\n",
       "      <td>0</td>\n",
       "      <td>0.000000</td>\n",
       "    </tr>\n",
       "    <tr>\n",
       "      <th>9</th>\n",
       "      <td>oldpeak</td>\n",
       "      <td>1.60</td>\n",
       "      <td>0.000</td>\n",
       "      <td>4.000</td>\n",
       "      <td>5</td>\n",
       "      <td>1.655629</td>\n",
       "    </tr>\n",
       "    <tr>\n",
       "      <th>10</th>\n",
       "      <td>slope</td>\n",
       "      <td>1.00</td>\n",
       "      <td>0.000</td>\n",
       "      <td>2.000</td>\n",
       "      <td>0</td>\n",
       "      <td>0.000000</td>\n",
       "    </tr>\n",
       "    <tr>\n",
       "      <th>11</th>\n",
       "      <td>ca</td>\n",
       "      <td>1.00</td>\n",
       "      <td>0.000</td>\n",
       "      <td>2.500</td>\n",
       "      <td>24</td>\n",
       "      <td>7.947020</td>\n",
       "    </tr>\n",
       "    <tr>\n",
       "      <th>12</th>\n",
       "      <td>thal</td>\n",
       "      <td>1.00</td>\n",
       "      <td>0.500</td>\n",
       "      <td>3.000</td>\n",
       "      <td>2</td>\n",
       "      <td>0.662252</td>\n",
       "    </tr>\n",
       "    <tr>\n",
       "      <th>13</th>\n",
       "      <td>target</td>\n",
       "      <td>1.00</td>\n",
       "      <td>0.000</td>\n",
       "      <td>1.000</td>\n",
       "      <td>0</td>\n",
       "      <td>0.000000</td>\n",
       "    </tr>\n",
       "  </tbody>\n",
       "</table>\n",
       "</div>"
      ],
      "text/plain": [
       "     Feature    IIQ  Lower_Lim  Upper_Lim  Outliers  Percentage_(%)\n",
       "0        age  13.00     29.000     77.000         0        0.000000\n",
       "1        sex   1.00      0.000      1.000         0        0.000000\n",
       "2         cp   2.00      0.000      3.000         0        0.000000\n",
       "3   trestbps  20.00     94.000    170.000         9        2.980132\n",
       "4       chol  63.75    126.000    370.375         5        1.655629\n",
       "5        fbs   0.00      0.000      0.000        45       14.900662\n",
       "6    restecg   1.00      0.000      2.000         0        0.000000\n",
       "7    thalach  32.75     84.125    202.000         1        0.331126\n",
       "8      exang   1.00      0.000      1.000         0        0.000000\n",
       "9    oldpeak   1.60      0.000      4.000         5        1.655629\n",
       "10     slope   1.00      0.000      2.000         0        0.000000\n",
       "11        ca   1.00      0.000      2.500        24        7.947020\n",
       "12      thal   1.00      0.500      3.000         2        0.662252\n",
       "13    target   1.00      0.000      1.000         0        0.000000"
      ]
     },
     "execution_count": 255,
     "metadata": {},
     "output_type": "execute_result"
    }
   ],
   "source": [
    "df_outliers = get_outliers_and_info_from_df(df)\n",
    "df_outliers"
   ]
  },
  {
   "cell_type": "code",
   "execution_count": 256,
   "id": "b1c6652b",
   "metadata": {},
   "outputs": [
    {
     "data": {
      "text/plain": [
       "['sex', 'cp', 'fbs', 'restecg', 'exang', 'slope', 'ca', 'thal']"
      ]
     },
     "execution_count": 256,
     "metadata": {},
     "output_type": "execute_result"
    }
   ],
   "source": [
    "categorical"
   ]
  },
  {
   "cell_type": "code",
   "execution_count": 257,
   "id": "4883b0b2",
   "metadata": {},
   "outputs": [
    {
     "data": {
      "text/plain": [
       "['trestbps', 'chol', 'thalach', 'oldpeak']"
      ]
     },
     "execution_count": 257,
     "metadata": {},
     "output_type": "execute_result"
    }
   ],
   "source": [
    "features_w_outliers = [feature for feature in df_outliers[df_outliers['Outliers'] > 0]['Feature']]\n",
    "for feature in features_w_outliers:\n",
    "    if feature in categorical:\n",
    "        features_w_outliers.remove(feature)\n",
    "features_w_outliers.remove('thal')\n",
    "features_w_outliers"
   ]
  },
  {
   "cell_type": "code",
   "execution_count": 258,
   "id": "22596790",
   "metadata": {},
   "outputs": [],
   "source": [
    "def get_outliers_from_df_and_feature(df_quanti, feature):\n",
    "\n",
    "    \"\"\"This function returns the outliers from a feature.\n",
    "\n",
    "     Input: df_quanti, feature (string).\n",
    "     Output: Array with all the outliers from the chosen feature.\n",
    "\n",
    "     OBS: df_quanti -> represents a DataFrame with only quantitatives features\"\"\"\n",
    "\n",
    "    import numpy as np\n",
    "\n",
    "    # calculate 1st quartile Q1\n",
    "\n",
    "    Q1 = df_quanti[feature].quantile(0.25)\n",
    "\n",
    "    # calculate 3rd quartile Q3\n",
    "\n",
    "    Q3 = df_quanti[feature].quantile(0.75)\n",
    "\n",
    "    # calculate interquartile range IIQ\n",
    "\n",
    "    IIQ = Q3 - Q1\n",
    "\n",
    "    # tolerance range\n",
    "\n",
    "    tolerance = 1.5 * IIQ\n",
    "\n",
    "    # calculate lower and upper limit\n",
    "\n",
    "    low_lim = Q1 - tolerance        \n",
    "    min_value = df_quanti[feature].min()\n",
    "    low_lim = max(low_lim, min_value)\n",
    "\n",
    "    up_lim = Q3 + tolerance\n",
    "    max_value = df_quanti[feature].max()\n",
    "    up_lim = min(up_lim, max_value)\n",
    "\n",
    "\n",
    "    # create an array with the outliers\n",
    "    \n",
    "    outliers = []\n",
    "\n",
    "    for i in df_quanti.index:\n",
    "\n",
    "        if ((df_quanti[feature][i] > up_lim) == True):\n",
    "\n",
    "              outliers.append(df_quanti[feature][i])\n",
    "\n",
    "        elif ((df_quanti[feature][i] < low_lim) == True):\n",
    "\n",
    "            outliers.append(df_quanti[feature][i])\n",
    "\n",
    "        else:\n",
    "\n",
    "            pass\n",
    "\n",
    "    # calculate the total of ouliers\n",
    "\n",
    "    total_outliers = 0\n",
    "    total_outliers = len(outliers)\n",
    "\n",
    "    # calculate the percentage of outliers\n",
    "\n",
    "    percent = (total_outliers/len(df_quanti.index)) * 100\n",
    "    percent = round(percent, 2)\n",
    "\n",
    "    # Output\n",
    "\n",
    "    if len(outliers) == 0:\n",
    "        print(f\"The feature {feature} doesn't have outliers\")\n",
    "    else:\n",
    "        return np.array(outliers)"
   ]
  },
  {
   "cell_type": "code",
   "execution_count": 259,
   "id": "64f5e87f",
   "metadata": {},
   "outputs": [],
   "source": [
    "for feature in features_w_outliers:\n",
    "    df = df[~df[feature].isin(get_outliers_from_df_and_feature(df, feature))]"
   ]
  },
  {
   "cell_type": "code",
   "execution_count": 260,
   "id": "f5dee5d8",
   "metadata": {},
   "outputs": [
    {
     "data": {
      "text/html": [
       "<div>\n",
       "<style scoped>\n",
       "    .dataframe tbody tr th:only-of-type {\n",
       "        vertical-align: middle;\n",
       "    }\n",
       "\n",
       "    .dataframe tbody tr th {\n",
       "        vertical-align: top;\n",
       "    }\n",
       "\n",
       "    .dataframe thead th {\n",
       "        text-align: right;\n",
       "    }\n",
       "</style>\n",
       "<table border=\"1\" class=\"dataframe\">\n",
       "  <thead>\n",
       "    <tr style=\"text-align: right;\">\n",
       "      <th></th>\n",
       "      <th>age</th>\n",
       "      <th>sex</th>\n",
       "      <th>cp</th>\n",
       "      <th>trestbps</th>\n",
       "      <th>chol</th>\n",
       "      <th>fbs</th>\n",
       "      <th>restecg</th>\n",
       "      <th>thalach</th>\n",
       "      <th>exang</th>\n",
       "      <th>oldpeak</th>\n",
       "      <th>slope</th>\n",
       "      <th>ca</th>\n",
       "      <th>thal</th>\n",
       "      <th>target</th>\n",
       "    </tr>\n",
       "  </thead>\n",
       "  <tbody>\n",
       "    <tr>\n",
       "      <th>0</th>\n",
       "      <td>52</td>\n",
       "      <td>1</td>\n",
       "      <td>0</td>\n",
       "      <td>125</td>\n",
       "      <td>212</td>\n",
       "      <td>0</td>\n",
       "      <td>1</td>\n",
       "      <td>168</td>\n",
       "      <td>0</td>\n",
       "      <td>1.0</td>\n",
       "      <td>2</td>\n",
       "      <td>2</td>\n",
       "      <td>3</td>\n",
       "      <td>0</td>\n",
       "    </tr>\n",
       "    <tr>\n",
       "      <th>1</th>\n",
       "      <td>53</td>\n",
       "      <td>1</td>\n",
       "      <td>0</td>\n",
       "      <td>140</td>\n",
       "      <td>203</td>\n",
       "      <td>1</td>\n",
       "      <td>0</td>\n",
       "      <td>155</td>\n",
       "      <td>1</td>\n",
       "      <td>3.1</td>\n",
       "      <td>0</td>\n",
       "      <td>0</td>\n",
       "      <td>3</td>\n",
       "      <td>0</td>\n",
       "    </tr>\n",
       "    <tr>\n",
       "      <th>2</th>\n",
       "      <td>70</td>\n",
       "      <td>1</td>\n",
       "      <td>0</td>\n",
       "      <td>145</td>\n",
       "      <td>174</td>\n",
       "      <td>0</td>\n",
       "      <td>1</td>\n",
       "      <td>125</td>\n",
       "      <td>1</td>\n",
       "      <td>2.6</td>\n",
       "      <td>0</td>\n",
       "      <td>0</td>\n",
       "      <td>3</td>\n",
       "      <td>0</td>\n",
       "    </tr>\n",
       "    <tr>\n",
       "      <th>3</th>\n",
       "      <td>61</td>\n",
       "      <td>1</td>\n",
       "      <td>0</td>\n",
       "      <td>148</td>\n",
       "      <td>203</td>\n",
       "      <td>0</td>\n",
       "      <td>1</td>\n",
       "      <td>161</td>\n",
       "      <td>0</td>\n",
       "      <td>0.0</td>\n",
       "      <td>2</td>\n",
       "      <td>1</td>\n",
       "      <td>3</td>\n",
       "      <td>0</td>\n",
       "    </tr>\n",
       "    <tr>\n",
       "      <th>4</th>\n",
       "      <td>62</td>\n",
       "      <td>0</td>\n",
       "      <td>0</td>\n",
       "      <td>138</td>\n",
       "      <td>294</td>\n",
       "      <td>1</td>\n",
       "      <td>1</td>\n",
       "      <td>106</td>\n",
       "      <td>0</td>\n",
       "      <td>1.9</td>\n",
       "      <td>1</td>\n",
       "      <td>3</td>\n",
       "      <td>2</td>\n",
       "      <td>0</td>\n",
       "    </tr>\n",
       "    <tr>\n",
       "      <th>...</th>\n",
       "      <td>...</td>\n",
       "      <td>...</td>\n",
       "      <td>...</td>\n",
       "      <td>...</td>\n",
       "      <td>...</td>\n",
       "      <td>...</td>\n",
       "      <td>...</td>\n",
       "      <td>...</td>\n",
       "      <td>...</td>\n",
       "      <td>...</td>\n",
       "      <td>...</td>\n",
       "      <td>...</td>\n",
       "      <td>...</td>\n",
       "      <td>...</td>\n",
       "    </tr>\n",
       "    <tr>\n",
       "      <th>278</th>\n",
       "      <td>68</td>\n",
       "      <td>0</td>\n",
       "      <td>2</td>\n",
       "      <td>120</td>\n",
       "      <td>211</td>\n",
       "      <td>0</td>\n",
       "      <td>0</td>\n",
       "      <td>115</td>\n",
       "      <td>0</td>\n",
       "      <td>1.5</td>\n",
       "      <td>1</td>\n",
       "      <td>0</td>\n",
       "      <td>2</td>\n",
       "      <td>1</td>\n",
       "    </tr>\n",
       "    <tr>\n",
       "      <th>279</th>\n",
       "      <td>44</td>\n",
       "      <td>0</td>\n",
       "      <td>2</td>\n",
       "      <td>108</td>\n",
       "      <td>141</td>\n",
       "      <td>0</td>\n",
       "      <td>1</td>\n",
       "      <td>175</td>\n",
       "      <td>0</td>\n",
       "      <td>0.6</td>\n",
       "      <td>1</td>\n",
       "      <td>0</td>\n",
       "      <td>2</td>\n",
       "      <td>1</td>\n",
       "    </tr>\n",
       "    <tr>\n",
       "      <th>280</th>\n",
       "      <td>52</td>\n",
       "      <td>1</td>\n",
       "      <td>0</td>\n",
       "      <td>128</td>\n",
       "      <td>255</td>\n",
       "      <td>0</td>\n",
       "      <td>1</td>\n",
       "      <td>161</td>\n",
       "      <td>1</td>\n",
       "      <td>0.0</td>\n",
       "      <td>2</td>\n",
       "      <td>1</td>\n",
       "      <td>3</td>\n",
       "      <td>0</td>\n",
       "    </tr>\n",
       "    <tr>\n",
       "      <th>281</th>\n",
       "      <td>59</td>\n",
       "      <td>1</td>\n",
       "      <td>3</td>\n",
       "      <td>160</td>\n",
       "      <td>273</td>\n",
       "      <td>0</td>\n",
       "      <td>0</td>\n",
       "      <td>125</td>\n",
       "      <td>0</td>\n",
       "      <td>0.0</td>\n",
       "      <td>2</td>\n",
       "      <td>0</td>\n",
       "      <td>2</td>\n",
       "      <td>0</td>\n",
       "    </tr>\n",
       "    <tr>\n",
       "      <th>282</th>\n",
       "      <td>54</td>\n",
       "      <td>1</td>\n",
       "      <td>0</td>\n",
       "      <td>120</td>\n",
       "      <td>188</td>\n",
       "      <td>0</td>\n",
       "      <td>1</td>\n",
       "      <td>113</td>\n",
       "      <td>0</td>\n",
       "      <td>1.4</td>\n",
       "      <td>1</td>\n",
       "      <td>1</td>\n",
       "      <td>3</td>\n",
       "      <td>0</td>\n",
       "    </tr>\n",
       "  </tbody>\n",
       "</table>\n",
       "<p>283 rows × 14 columns</p>\n",
       "</div>"
      ],
      "text/plain": [
       "     age  sex  cp  trestbps  chol  fbs  restecg  thalach  exang  oldpeak  \\\n",
       "0     52    1   0       125   212    0        1      168      0      1.0   \n",
       "1     53    1   0       140   203    1        0      155      1      3.1   \n",
       "2     70    1   0       145   174    0        1      125      1      2.6   \n",
       "3     61    1   0       148   203    0        1      161      0      0.0   \n",
       "4     62    0   0       138   294    1        1      106      0      1.9   \n",
       "..   ...  ...  ..       ...   ...  ...      ...      ...    ...      ...   \n",
       "278   68    0   2       120   211    0        0      115      0      1.5   \n",
       "279   44    0   2       108   141    0        1      175      0      0.6   \n",
       "280   52    1   0       128   255    0        1      161      1      0.0   \n",
       "281   59    1   3       160   273    0        0      125      0      0.0   \n",
       "282   54    1   0       120   188    0        1      113      0      1.4   \n",
       "\n",
       "     slope  ca  thal  target  \n",
       "0        2   2     3       0  \n",
       "1        0   0     3       0  \n",
       "2        0   0     3       0  \n",
       "3        2   1     3       0  \n",
       "4        1   3     2       0  \n",
       "..     ...  ..   ...     ...  \n",
       "278      1   0     2       1  \n",
       "279      1   0     2       1  \n",
       "280      2   1     3       0  \n",
       "281      2   0     2       0  \n",
       "282      1   1     3       0  \n",
       "\n",
       "[283 rows x 14 columns]"
      ]
     },
     "execution_count": 260,
     "metadata": {},
     "output_type": "execute_result"
    }
   ],
   "source": [
    "df.reset_index(inplace=True, drop=True)\n",
    "df"
   ]
  },
  {
   "cell_type": "code",
   "execution_count": 261,
   "id": "2b03bbac",
   "metadata": {},
   "outputs": [
    {
     "data": {
      "text/plain": [
       "<AxesSubplot:>"
      ]
     },
     "execution_count": 261,
     "metadata": {},
     "output_type": "execute_result"
    },
    {
     "data": {
      "image/png": "[encoded data removed]",
      "text/plain": [
       "<Figure size 1152x432 with 1 Axes>"
      ]
     },
     "metadata": {},
     "output_type": "display_data"
    }
   ],
   "source": [
    "plt.figure(figsize=(16,6))\n",
    "sns.boxplot(data=df)"
   ]
  },
  {
   "cell_type": "code",
   "execution_count": 262,
   "id": "57cfb7fa",
   "metadata": {},
   "outputs": [
    {
     "data": {
      "text/html": [
       "<div>\n",
       "<style scoped>\n",
       "    .dataframe tbody tr th:only-of-type {\n",
       "        vertical-align: middle;\n",
       "    }\n",
       "\n",
       "    .dataframe tbody tr th {\n",
       "        vertical-align: top;\n",
       "    }\n",
       "\n",
       "    .dataframe thead th {\n",
       "        text-align: right;\n",
       "    }\n",
       "</style>\n",
       "<table border=\"1\" class=\"dataframe\">\n",
       "  <thead>\n",
       "    <tr style=\"text-align: right;\">\n",
       "      <th></th>\n",
       "      <th>Feature</th>\n",
       "      <th>IIQ</th>\n",
       "      <th>Lower_Lim</th>\n",
       "      <th>Upper_Lim</th>\n",
       "      <th>Outliers</th>\n",
       "      <th>Percentage_(%)</th>\n",
       "    </tr>\n",
       "  </thead>\n",
       "  <tbody>\n",
       "    <tr>\n",
       "      <th>0</th>\n",
       "      <td>age</td>\n",
       "      <td>13.0</td>\n",
       "      <td>29.0</td>\n",
       "      <td>77.0</td>\n",
       "      <td>0</td>\n",
       "      <td>0.000000</td>\n",
       "    </tr>\n",
       "    <tr>\n",
       "      <th>1</th>\n",
       "      <td>sex</td>\n",
       "      <td>1.0</td>\n",
       "      <td>0.0</td>\n",
       "      <td>1.0</td>\n",
       "      <td>0</td>\n",
       "      <td>0.000000</td>\n",
       "    </tr>\n",
       "    <tr>\n",
       "      <th>2</th>\n",
       "      <td>cp</td>\n",
       "      <td>2.0</td>\n",
       "      <td>0.0</td>\n",
       "      <td>3.0</td>\n",
       "      <td>0</td>\n",
       "      <td>0.000000</td>\n",
       "    </tr>\n",
       "    <tr>\n",
       "      <th>3</th>\n",
       "      <td>trestbps</td>\n",
       "      <td>20.0</td>\n",
       "      <td>94.0</td>\n",
       "      <td>170.0</td>\n",
       "      <td>0</td>\n",
       "      <td>0.000000</td>\n",
       "    </tr>\n",
       "    <tr>\n",
       "      <th>4</th>\n",
       "      <td>chol</td>\n",
       "      <td>60.0</td>\n",
       "      <td>126.0</td>\n",
       "      <td>360.0</td>\n",
       "      <td>0</td>\n",
       "      <td>0.000000</td>\n",
       "    </tr>\n",
       "    <tr>\n",
       "      <th>5</th>\n",
       "      <td>fbs</td>\n",
       "      <td>0.0</td>\n",
       "      <td>0.0</td>\n",
       "      <td>0.0</td>\n",
       "      <td>40</td>\n",
       "      <td>14.134276</td>\n",
       "    </tr>\n",
       "    <tr>\n",
       "      <th>6</th>\n",
       "      <td>restecg</td>\n",
       "      <td>1.0</td>\n",
       "      <td>0.0</td>\n",
       "      <td>2.0</td>\n",
       "      <td>0</td>\n",
       "      <td>0.000000</td>\n",
       "    </tr>\n",
       "    <tr>\n",
       "      <th>7</th>\n",
       "      <td>thalach</td>\n",
       "      <td>34.5</td>\n",
       "      <td>88.0</td>\n",
       "      <td>202.0</td>\n",
       "      <td>0</td>\n",
       "      <td>0.000000</td>\n",
       "    </tr>\n",
       "    <tr>\n",
       "      <th>8</th>\n",
       "      <td>exang</td>\n",
       "      <td>1.0</td>\n",
       "      <td>0.0</td>\n",
       "      <td>1.0</td>\n",
       "      <td>0</td>\n",
       "      <td>0.000000</td>\n",
       "    </tr>\n",
       "    <tr>\n",
       "      <th>9</th>\n",
       "      <td>oldpeak</td>\n",
       "      <td>1.6</td>\n",
       "      <td>0.0</td>\n",
       "      <td>4.0</td>\n",
       "      <td>0</td>\n",
       "      <td>0.000000</td>\n",
       "    </tr>\n",
       "    <tr>\n",
       "      <th>10</th>\n",
       "      <td>slope</td>\n",
       "      <td>1.0</td>\n",
       "      <td>0.0</td>\n",
       "      <td>2.0</td>\n",
       "      <td>0</td>\n",
       "      <td>0.000000</td>\n",
       "    </tr>\n",
       "    <tr>\n",
       "      <th>11</th>\n",
       "      <td>ca</td>\n",
       "      <td>1.0</td>\n",
       "      <td>0.0</td>\n",
       "      <td>2.5</td>\n",
       "      <td>20</td>\n",
       "      <td>7.067138</td>\n",
       "    </tr>\n",
       "    <tr>\n",
       "      <th>12</th>\n",
       "      <td>thal</td>\n",
       "      <td>1.0</td>\n",
       "      <td>0.5</td>\n",
       "      <td>3.0</td>\n",
       "      <td>2</td>\n",
       "      <td>0.706714</td>\n",
       "    </tr>\n",
       "    <tr>\n",
       "      <th>13</th>\n",
       "      <td>target</td>\n",
       "      <td>1.0</td>\n",
       "      <td>0.0</td>\n",
       "      <td>1.0</td>\n",
       "      <td>0</td>\n",
       "      <td>0.000000</td>\n",
       "    </tr>\n",
       "  </tbody>\n",
       "</table>\n",
       "</div>"
      ],
      "text/plain": [
       "     Feature   IIQ  Lower_Lim  Upper_Lim  Outliers  Percentage_(%)\n",
       "0        age  13.0       29.0       77.0         0        0.000000\n",
       "1        sex   1.0        0.0        1.0         0        0.000000\n",
       "2         cp   2.0        0.0        3.0         0        0.000000\n",
       "3   trestbps  20.0       94.0      170.0         0        0.000000\n",
       "4       chol  60.0      126.0      360.0         0        0.000000\n",
       "5        fbs   0.0        0.0        0.0        40       14.134276\n",
       "6    restecg   1.0        0.0        2.0         0        0.000000\n",
       "7    thalach  34.5       88.0      202.0         0        0.000000\n",
       "8      exang   1.0        0.0        1.0         0        0.000000\n",
       "9    oldpeak   1.6        0.0        4.0         0        0.000000\n",
       "10     slope   1.0        0.0        2.0         0        0.000000\n",
       "11        ca   1.0        0.0        2.5        20        7.067138\n",
       "12      thal   1.0        0.5        3.0         2        0.706714\n",
       "13    target   1.0        0.0        1.0         0        0.000000"
      ]
     },
     "execution_count": 262,
     "metadata": {},
     "output_type": "execute_result"
    }
   ],
   "source": [
    "get_outliers_and_info_from_df(df)"
   ]
  },
  {
   "cell_type": "code",
   "execution_count": 263,
   "id": "efc8189a",
   "metadata": {},
   "outputs": [
    {
     "data": {
      "text/plain": [
       "0    243\n",
       "1     40\n",
       "Name: fbs, dtype: int64"
      ]
     },
     "execution_count": 263,
     "metadata": {},
     "output_type": "execute_result"
    }
   ],
   "source": [
    "df['fbs'].value_counts()"
   ]
  },
  {
   "cell_type": "code",
   "execution_count": 264,
   "id": "b2a314a9",
   "metadata": {},
   "outputs": [
    {
     "data": {
      "text/plain": [
       "0    165\n",
       "1     63\n",
       "2     35\n",
       "3     16\n",
       "4      4\n",
       "Name: ca, dtype: int64"
      ]
     },
     "execution_count": 264,
     "metadata": {},
     "output_type": "execute_result"
    }
   ],
   "source": [
    "df['ca'].value_counts()"
   ]
  },
  {
   "cell_type": "code",
   "execution_count": 265,
   "id": "ead27698",
   "metadata": {},
   "outputs": [
    {
     "data": {
      "text/plain": [
       "2    159\n",
       "3    105\n",
       "1     17\n",
       "0      2\n",
       "Name: thal, dtype: int64"
      ]
     },
     "execution_count": 265,
     "metadata": {},
     "output_type": "execute_result"
    }
   ],
   "source": [
    "df['thal'].value_counts()"
   ]
  },
  {
   "cell_type": "markdown",
   "id": "f98cc2f9",
   "metadata": {},
   "source": [
    "# Get Dummies"
   ]
  },
  {
   "cell_type": "code",
   "execution_count": 266,
   "id": "7167e24c",
   "metadata": {},
   "outputs": [
    {
     "data": {
      "text/plain": [
       "['sex', 'cp', 'fbs', 'restecg', 'exang', 'slope', 'ca', 'thal']"
      ]
     },
     "execution_count": 266,
     "metadata": {},
     "output_type": "execute_result"
    }
   ],
   "source": [
    "categorical"
   ]
  },
  {
   "cell_type": "code",
   "execution_count": 267,
   "id": "6902aae1",
   "metadata": {},
   "outputs": [
    {
     "data": {
      "text/html": [
       "<div>\n",
       "<style scoped>\n",
       "    .dataframe tbody tr th:only-of-type {\n",
       "        vertical-align: middle;\n",
       "    }\n",
       "\n",
       "    .dataframe tbody tr th {\n",
       "        vertical-align: top;\n",
       "    }\n",
       "\n",
       "    .dataframe thead th {\n",
       "        text-align: right;\n",
       "    }\n",
       "</style>\n",
       "<table border=\"1\" class=\"dataframe\">\n",
       "  <thead>\n",
       "    <tr style=\"text-align: right;\">\n",
       "      <th></th>\n",
       "      <th>age</th>\n",
       "      <th>trestbps</th>\n",
       "      <th>chol</th>\n",
       "      <th>thalach</th>\n",
       "      <th>oldpeak</th>\n",
       "      <th>target</th>\n",
       "      <th>sex_1</th>\n",
       "      <th>cp_1</th>\n",
       "      <th>cp_2</th>\n",
       "      <th>cp_3</th>\n",
       "      <th>...</th>\n",
       "      <th>exang_1</th>\n",
       "      <th>slope_1</th>\n",
       "      <th>slope_2</th>\n",
       "      <th>ca_1</th>\n",
       "      <th>ca_2</th>\n",
       "      <th>ca_3</th>\n",
       "      <th>ca_4</th>\n",
       "      <th>thal_1</th>\n",
       "      <th>thal_2</th>\n",
       "      <th>thal_3</th>\n",
       "    </tr>\n",
       "  </thead>\n",
       "  <tbody>\n",
       "    <tr>\n",
       "      <th>0</th>\n",
       "      <td>52</td>\n",
       "      <td>125</td>\n",
       "      <td>212</td>\n",
       "      <td>168</td>\n",
       "      <td>1.0</td>\n",
       "      <td>0</td>\n",
       "      <td>1</td>\n",
       "      <td>0</td>\n",
       "      <td>0</td>\n",
       "      <td>0</td>\n",
       "      <td>...</td>\n",
       "      <td>0</td>\n",
       "      <td>0</td>\n",
       "      <td>1</td>\n",
       "      <td>0</td>\n",
       "      <td>1</td>\n",
       "      <td>0</td>\n",
       "      <td>0</td>\n",
       "      <td>0</td>\n",
       "      <td>0</td>\n",
       "      <td>1</td>\n",
       "    </tr>\n",
       "    <tr>\n",
       "      <th>1</th>\n",
       "      <td>53</td>\n",
       "      <td>140</td>\n",
       "      <td>203</td>\n",
       "      <td>155</td>\n",
       "      <td>3.1</td>\n",
       "      <td>0</td>\n",
       "      <td>1</td>\n",
       "      <td>0</td>\n",
       "      <td>0</td>\n",
       "      <td>0</td>\n",
       "      <td>...</td>\n",
       "      <td>1</td>\n",
       "      <td>0</td>\n",
       "      <td>0</td>\n",
       "      <td>0</td>\n",
       "      <td>0</td>\n",
       "      <td>0</td>\n",
       "      <td>0</td>\n",
       "      <td>0</td>\n",
       "      <td>0</td>\n",
       "      <td>1</td>\n",
       "    </tr>\n",
       "    <tr>\n",
       "      <th>2</th>\n",
       "      <td>70</td>\n",
       "      <td>145</td>\n",
       "      <td>174</td>\n",
       "      <td>125</td>\n",
       "      <td>2.6</td>\n",
       "      <td>0</td>\n",
       "      <td>1</td>\n",
       "      <td>0</td>\n",
       "      <td>0</td>\n",
       "      <td>0</td>\n",
       "      <td>...</td>\n",
       "      <td>1</td>\n",
       "      <td>0</td>\n",
       "      <td>0</td>\n",
       "      <td>0</td>\n",
       "      <td>0</td>\n",
       "      <td>0</td>\n",
       "      <td>0</td>\n",
       "      <td>0</td>\n",
       "      <td>0</td>\n",
       "      <td>1</td>\n",
       "    </tr>\n",
       "    <tr>\n",
       "      <th>3</th>\n",
       "      <td>61</td>\n",
       "      <td>148</td>\n",
       "      <td>203</td>\n",
       "      <td>161</td>\n",
       "      <td>0.0</td>\n",
       "      <td>0</td>\n",
       "      <td>1</td>\n",
       "      <td>0</td>\n",
       "      <td>0</td>\n",
       "      <td>0</td>\n",
       "      <td>...</td>\n",
       "      <td>0</td>\n",
       "      <td>0</td>\n",
       "      <td>1</td>\n",
       "      <td>1</td>\n",
       "      <td>0</td>\n",
       "      <td>0</td>\n",
       "      <td>0</td>\n",
       "      <td>0</td>\n",
       "      <td>0</td>\n",
       "      <td>1</td>\n",
       "    </tr>\n",
       "    <tr>\n",
       "      <th>4</th>\n",
       "      <td>62</td>\n",
       "      <td>138</td>\n",
       "      <td>294</td>\n",
       "      <td>106</td>\n",
       "      <td>1.9</td>\n",
       "      <td>0</td>\n",
       "      <td>0</td>\n",
       "      <td>0</td>\n",
       "      <td>0</td>\n",
       "      <td>0</td>\n",
       "      <td>...</td>\n",
       "      <td>0</td>\n",
       "      <td>1</td>\n",
       "      <td>0</td>\n",
       "      <td>0</td>\n",
       "      <td>0</td>\n",
       "      <td>1</td>\n",
       "      <td>0</td>\n",
       "      <td>0</td>\n",
       "      <td>1</td>\n",
       "      <td>0</td>\n",
       "    </tr>\n",
       "    <tr>\n",
       "      <th>...</th>\n",
       "      <td>...</td>\n",
       "      <td>...</td>\n",
       "      <td>...</td>\n",
       "      <td>...</td>\n",
       "      <td>...</td>\n",
       "      <td>...</td>\n",
       "      <td>...</td>\n",
       "      <td>...</td>\n",
       "      <td>...</td>\n",
       "      <td>...</td>\n",
       "      <td>...</td>\n",
       "      <td>...</td>\n",
       "      <td>...</td>\n",
       "      <td>...</td>\n",
       "      <td>...</td>\n",
       "      <td>...</td>\n",
       "      <td>...</td>\n",
       "      <td>...</td>\n",
       "      <td>...</td>\n",
       "      <td>...</td>\n",
       "      <td>...</td>\n",
       "    </tr>\n",
       "    <tr>\n",
       "      <th>278</th>\n",
       "      <td>68</td>\n",
       "      <td>120</td>\n",
       "      <td>211</td>\n",
       "      <td>115</td>\n",
       "      <td>1.5</td>\n",
       "      <td>1</td>\n",
       "      <td>0</td>\n",
       "      <td>0</td>\n",
       "      <td>1</td>\n",
       "      <td>0</td>\n",
       "      <td>...</td>\n",
       "      <td>0</td>\n",
       "      <td>1</td>\n",
       "      <td>0</td>\n",
       "      <td>0</td>\n",
       "      <td>0</td>\n",
       "      <td>0</td>\n",
       "      <td>0</td>\n",
       "      <td>0</td>\n",
       "      <td>1</td>\n",
       "      <td>0</td>\n",
       "    </tr>\n",
       "    <tr>\n",
       "      <th>279</th>\n",
       "      <td>44</td>\n",
       "      <td>108</td>\n",
       "      <td>141</td>\n",
       "      <td>175</td>\n",
       "      <td>0.6</td>\n",
       "      <td>1</td>\n",
       "      <td>0</td>\n",
       "      <td>0</td>\n",
       "      <td>1</td>\n",
       "      <td>0</td>\n",
       "      <td>...</td>\n",
       "      <td>0</td>\n",
       "      <td>1</td>\n",
       "      <td>0</td>\n",
       "      <td>0</td>\n",
       "      <td>0</td>\n",
       "      <td>0</td>\n",
       "      <td>0</td>\n",
       "      <td>0</td>\n",
       "      <td>1</td>\n",
       "      <td>0</td>\n",
       "    </tr>\n",
       "    <tr>\n",
       "      <th>280</th>\n",
       "      <td>52</td>\n",
       "      <td>128</td>\n",
       "      <td>255</td>\n",
       "      <td>161</td>\n",
       "      <td>0.0</td>\n",
       "      <td>0</td>\n",
       "      <td>1</td>\n",
       "      <td>0</td>\n",
       "      <td>0</td>\n",
       "      <td>0</td>\n",
       "      <td>...</td>\n",
       "      <td>1</td>\n",
       "      <td>0</td>\n",
       "      <td>1</td>\n",
       "      <td>1</td>\n",
       "      <td>0</td>\n",
       "      <td>0</td>\n",
       "      <td>0</td>\n",
       "      <td>0</td>\n",
       "      <td>0</td>\n",
       "      <td>1</td>\n",
       "    </tr>\n",
       "    <tr>\n",
       "      <th>281</th>\n",
       "      <td>59</td>\n",
       "      <td>160</td>\n",
       "      <td>273</td>\n",
       "      <td>125</td>\n",
       "      <td>0.0</td>\n",
       "      <td>0</td>\n",
       "      <td>1</td>\n",
       "      <td>0</td>\n",
       "      <td>0</td>\n",
       "      <td>1</td>\n",
       "      <td>...</td>\n",
       "      <td>0</td>\n",
       "      <td>0</td>\n",
       "      <td>1</td>\n",
       "      <td>0</td>\n",
       "      <td>0</td>\n",
       "      <td>0</td>\n",
       "      <td>0</td>\n",
       "      <td>0</td>\n",
       "      <td>1</td>\n",
       "      <td>0</td>\n",
       "    </tr>\n",
       "    <tr>\n",
       "      <th>282</th>\n",
       "      <td>54</td>\n",
       "      <td>120</td>\n",
       "      <td>188</td>\n",
       "      <td>113</td>\n",
       "      <td>1.4</td>\n",
       "      <td>0</td>\n",
       "      <td>1</td>\n",
       "      <td>0</td>\n",
       "      <td>0</td>\n",
       "      <td>0</td>\n",
       "      <td>...</td>\n",
       "      <td>0</td>\n",
       "      <td>1</td>\n",
       "      <td>0</td>\n",
       "      <td>1</td>\n",
       "      <td>0</td>\n",
       "      <td>0</td>\n",
       "      <td>0</td>\n",
       "      <td>0</td>\n",
       "      <td>0</td>\n",
       "      <td>1</td>\n",
       "    </tr>\n",
       "  </tbody>\n",
       "</table>\n",
       "<p>283 rows × 23 columns</p>\n",
       "</div>"
      ],
      "text/plain": [
       "     age  trestbps  chol  thalach  oldpeak  target  sex_1  cp_1  cp_2  cp_3  \\\n",
       "0     52       125   212      168      1.0       0      1     0     0     0   \n",
       "1     53       140   203      155      3.1       0      1     0     0     0   \n",
       "2     70       145   174      125      2.6       0      1     0     0     0   \n",
       "3     61       148   203      161      0.0       0      1     0     0     0   \n",
       "4     62       138   294      106      1.9       0      0     0     0     0   \n",
       "..   ...       ...   ...      ...      ...     ...    ...   ...   ...   ...   \n",
       "278   68       120   211      115      1.5       1      0     0     1     0   \n",
       "279   44       108   141      175      0.6       1      0     0     1     0   \n",
       "280   52       128   255      161      0.0       0      1     0     0     0   \n",
       "281   59       160   273      125      0.0       0      1     0     0     1   \n",
       "282   54       120   188      113      1.4       0      1     0     0     0   \n",
       "\n",
       "     ...  exang_1  slope_1  slope_2  ca_1  ca_2  ca_3  ca_4  thal_1  thal_2  \\\n",
       "0    ...        0        0        1     0     1     0     0       0       0   \n",
       "1    ...        1        0        0     0     0     0     0       0       0   \n",
       "2    ...        1        0        0     0     0     0     0       0       0   \n",
       "3    ...        0        0        1     1     0     0     0       0       0   \n",
       "4    ...        0        1        0     0     0     1     0       0       1   \n",
       "..   ...      ...      ...      ...   ...   ...   ...   ...     ...     ...   \n",
       "278  ...        0        1        0     0     0     0     0       0       1   \n",
       "279  ...        0        1        0     0     0     0     0       0       1   \n",
       "280  ...        1        0        1     1     0     0     0       0       0   \n",
       "281  ...        0        0        1     0     0     0     0       0       1   \n",
       "282  ...        0        1        0     1     0     0     0       0       0   \n",
       "\n",
       "     thal_3  \n",
       "0         1  \n",
       "1         1  \n",
       "2         1  \n",
       "3         1  \n",
       "4         0  \n",
       "..      ...  \n",
       "278       0  \n",
       "279       0  \n",
       "280       1  \n",
       "281       0  \n",
       "282       1  \n",
       "\n",
       "[283 rows x 23 columns]"
      ]
     },
     "execution_count": 267,
     "metadata": {},
     "output_type": "execute_result"
    }
   ],
   "source": [
    "df = pd.get_dummies(df, columns=categorical, drop_first=True)\n",
    "df"
   ]
  },
  {
   "cell_type": "code",
   "execution_count": 268,
   "id": "6aef6f6d",
   "metadata": {},
   "outputs": [
    {
     "name": "stdout",
     "output_type": "stream",
     "text": [
      "<class 'pandas.core.frame.DataFrame'>\n",
      "RangeIndex: 283 entries, 0 to 282\n",
      "Data columns (total 23 columns):\n",
      " #   Column     Non-Null Count  Dtype  \n",
      "---  ------     --------------  -----  \n",
      " 0   age        283 non-null    int64  \n",
      " 1   trestbps   283 non-null    int64  \n",
      " 2   chol       283 non-null    int64  \n",
      " 3   thalach    283 non-null    int64  \n",
      " 4   oldpeak    283 non-null    float64\n",
      " 5   target     283 non-null    int64  \n",
      " 6   sex_1      283 non-null    uint8  \n",
      " 7   cp_1       283 non-null    uint8  \n",
      " 8   cp_2       283 non-null    uint8  \n",
      " 9   cp_3       283 non-null    uint8  \n",
      " 10  fbs_1      283 non-null    uint8  \n",
      " 11  restecg_1  283 non-null    uint8  \n",
      " 12  restecg_2  283 non-null    uint8  \n",
      " 13  exang_1    283 non-null    uint8  \n",
      " 14  slope_1    283 non-null    uint8  \n",
      " 15  slope_2    283 non-null    uint8  \n",
      " 16  ca_1       283 non-null    uint8  \n",
      " 17  ca_2       283 non-null    uint8  \n",
      " 18  ca_3       283 non-null    uint8  \n",
      " 19  ca_4       283 non-null    uint8  \n",
      " 20  thal_1     283 non-null    uint8  \n",
      " 21  thal_2     283 non-null    uint8  \n",
      " 22  thal_3     283 non-null    uint8  \n",
      "dtypes: float64(1), int64(5), uint8(17)\n",
      "memory usage: 18.1 KB\n"
     ]
    }
   ],
   "source": [
    "df.info()"
   ]
  },
  {
   "cell_type": "markdown",
   "id": "2278bb31",
   "metadata": {},
   "source": [
    "# Machine Learning"
   ]
  },
  {
   "cell_type": "code",
   "execution_count": 269,
   "id": "e778e568",
   "metadata": {},
   "outputs": [],
   "source": [
    "X, y = df.drop('target', axis=1), df['target']"
   ]
  },
  {
   "cell_type": "code",
   "execution_count": 271,
   "id": "b6931bce",
   "metadata": {},
   "outputs": [],
   "source": [
    "X_train, X_test, y_train, y_test = train_test_split(X, y, test_size=.2, random_state=42)"
   ]
  },
  {
   "cell_type": "markdown",
   "id": "e005f046",
   "metadata": {},
   "source": [
    "# Aux Methods"
   ]
  },
  {
   "cell_type": "code",
   "execution_count": 316,
   "id": "4c141ae6",
   "metadata": {},
   "outputs": [],
   "source": [
    "def plot_feature_importances(model, X, feature_importances):\n",
    "    df_importance = pd.DataFrame({'Feature': X.columns, 'Importance': feature_importances})\n",
    "    df_importance = df_importance.set_index('Feature')\n",
    "\n",
    "    ax = df_importance.sort_values(by='Importance', ascending = False).head(10).plot.barh(figsize=(5, 5))\n",
    "    ax.invert_yaxis()"
   ]
  },
  {
   "cell_type": "code",
   "execution_count": 324,
   "id": "091db27f",
   "metadata": {},
   "outputs": [],
   "source": [
    "def plot_roc_curve(model, X_test, y_test, ax = None):\n",
    "    roc_auc = roc_auc_score(y_test, model.predict(X_test))\n",
    "    fpr, tpr, thresholds = roc_curve(y_test, model.predict_proba(X_test)[:,1])\n",
    "    \n",
    "    if ax is not None:\n",
    "        ax.plot(fpr, tpr, label='AUC = %0.2f)' % roc_auc)\n",
    "        ax.plot([0, 1], [0, 1],'r--')\n",
    "        ax.set_xlabel('False Positive Rate')\n",
    "        ax.set_ylabel('True Positive Rate')\n",
    "        ax.legend(loc=\"lower right\")\n",
    "    else:\n",
    "        plt.figure()\n",
    "        plt.plot(fpr, tpr, label='AUC = %0.2f)' % roc_auc)\n",
    "        plt.plot([0, 1], [0, 1],'r--')\n",
    "        plt.xlabel('False Positive Rate')\n",
    "        plt.ylabel('True Positive Rate')\n",
    "        plt.title('ROC Curve')\n",
    "        plt.legend(loc=\"lower right\")\n",
    "        plt.show()"
   ]
  },
  {
   "cell_type": "code",
   "execution_count": 390,
   "id": "582a8a60",
   "metadata": {},
   "outputs": [],
   "source": [
    "def ml_summary(df, algorithm, opt=2, std_scaler=False):\n",
    "    X = df.drop('target', axis=1)\n",
    "    y = df['target']\n",
    "    \n",
    "    X_train, X_test, y_train, y_test = train_test_split(X, y, test_size=0.2, random_state=42)\n",
    "    \n",
    "    if std_scaler:\n",
    "        scaler = StandardScaler()\n",
    "        cols_scaler = ['age', 'trestbps', 'chol', 'thalach', 'oldpeak']\n",
    "        X_train[cols_scaler] = scaler.fit_transform(X_train[cols_scaler])\n",
    "        X_test[cols_scaler] = scaler.fit_transform(X_test[cols_scaler])\n",
    "        \n",
    "    if opt == 0:\n",
    "        ml = algorithm(max_iter=1000)\n",
    "    elif opt == 1:\n",
    "        ml = algorithm(n_estimators=1000)\n",
    "    elif opt == 2:\n",
    "        ml = algorithm()\n",
    "        \n",
    "    ml.fit(X_train, y_train)\n",
    "    score_train = ml.score(X_train, y_train)\n",
    "    print(f'Train Accuracy: {score_train*100:.2f}%')\n",
    "    score_test = ml.score(X_test, y_test)\n",
    "    print(f'Test Accuracy: {score_test*100:.2f}%')\n",
    "    \n",
    "    y_pred = log.predict(X_test)\n",
    "    print('--- CLASSIFICATION REPORT ---')\n",
    "    print(classification_report(y_test, y_pred))\n",
    "    print('--- CONFUSION MATRIX ---')\n",
    "    confusion = confusion_matrix(y_test, y_pred)\n",
    "    sns.heatmap(confusion, annot=True, cmap='Blues')\n",
    "    \n",
    "    return score_train, score_test"
   ]
  },
  {
   "cell_type": "markdown",
   "id": "4e2e7d76",
   "metadata": {},
   "source": [
    "## Logistic Regression"
   ]
  },
  {
   "cell_type": "code",
   "execution_count": 295,
   "id": "ca28ab5c",
   "metadata": {},
   "outputs": [
    {
     "name": "stdout",
     "output_type": "stream",
     "text": [
      "Melhores hiperparâmetros:\n",
      "{'C': 1}\n"
     ]
    }
   ],
   "source": [
    "# grid search parameters\n",
    "params = {\"C\": np.arange(1, 150, 5)}\n",
    "\n",
    "# create LogisticRegression object\n",
    "logreg = LogisticRegression(solver='liblinear')\n",
    "\n",
    "# create KFold object for cross validation\n",
    "skf = StratifiedKFold(n_splits=5, shuffle=True, random_state=42)\n",
    "\n",
    "# create Grid Search object\n",
    "grid_search = GridSearchCV(logreg, param_grid=params, scoring='roc_auc',\n",
    "                           cv=skf.split(X_train, y_train))\n",
    "\n",
    "# train model with grid search\n",
    "grid_search.fit(X_train, y_train)\n",
    "print('Melhores hiperparâmetros:')\n",
    "print(grid_search.best_params_)\n",
    "\n",
    "\n",
    "# --> Model creation with the best parameters\n",
    "\n",
    "logreg = LogisticRegression(solver='liblinear', C = grid_search.best_params_['C'])\n",
    "# model fit with train dataset\n",
    "logreg.fit(X_train, y_train)\n",
    "\n",
    "# predict test dataset\n",
    "y_pred_logreg = logreg.predict(X_test)"
   ]
  },
  {
   "cell_type": "code",
   "execution_count": 296,
   "id": "58d07957",
   "metadata": {},
   "outputs": [
    {
     "data": {
      "image/png": "[encoded data removed]",
      "text/plain": [
       "<Figure size 360x360 with 1 Axes>"
      ]
     },
     "metadata": {},
     "output_type": "display_data"
    }
   ],
   "source": [
    "plot_feature_importances(tree, X, logreg.coef_[0])"
   ]
  },
  {
   "cell_type": "code",
   "execution_count": 326,
   "id": "eda5ae0f",
   "metadata": {},
   "outputs": [
    {
     "name": "stdout",
     "output_type": "stream",
     "text": [
      "Train accuracy: 0.88\n",
      "Test accuracy: 0.82\n",
      "\n",
      "              precision    recall  f1-score   support\n",
      "\n",
      "           0       0.83      0.77      0.80        26\n",
      "           1       0.82      0.87      0.84        31\n",
      "\n",
      "    accuracy                           0.82        57\n",
      "   macro avg       0.83      0.82      0.82        57\n",
      "weighted avg       0.83      0.82      0.82        57\n",
      "\n",
      "ROC curve area: 0.82\n"
     ]
    }
   ],
   "source": [
    "print(\"Train accuracy: {:.2f}\".format(logreg.score(X_train, y_train)))\n",
    "print(\"Test accuracy: {:.2f}\\n\".format(logreg.score(X_test, y_test)))\n",
    "print(classification_report(y_test, y_pred_logreg))\n",
    "print(\"ROC curve area: {:.2f}\".format(roc_auc_score(y_test, y_pred_logreg)))"
   ]
  },
  {
   "cell_type": "code",
   "execution_count": 325,
   "id": "1d8c5488",
   "metadata": {},
   "outputs": [
    {
     "data": {
      "image/png": "[encoded data removed]",
      "text/plain": [
       "<Figure size 432x288 with 1 Axes>"
      ]
     },
     "metadata": {},
     "output_type": "display_data"
    }
   ],
   "source": [
    "plot_roc_curve(logreg, X_test, y_test)"
   ]
  },
  {
   "cell_type": "code",
   "execution_count": 361,
   "id": "a8b44134",
   "metadata": {},
   "outputs": [
    {
     "name": "stdout",
     "output_type": "stream",
     "text": [
      "Train Accuracy: 87.61%\n",
      "Test Accuracy: 82.46%\n",
      "--- CLASSIFICATION REPORT ---\n",
      "              precision    recall  f1-score   support\n",
      "\n",
      "           0       0.83      0.77      0.80        26\n",
      "           1       0.82      0.87      0.84        31\n",
      "\n",
      "    accuracy                           0.82        57\n",
      "   macro avg       0.83      0.82      0.82        57\n",
      "weighted avg       0.83      0.82      0.82        57\n",
      "\n",
      "--- CONFUSION MATRIX ---\n"
     ]
    },
    {
     "data": {
      "image/png": "[encoded data removed]",
      "text/plain": [
       "<Figure size 432x288 with 2 Axes>"
      ]
     },
     "metadata": {},
     "output_type": "display_data"
    }
   ],
   "source": [
    "log_train, log_test = ml_summary(df, LogisticRegression, opt=0)"
   ]
  },
  {
   "cell_type": "markdown",
   "id": "4a6d86df",
   "metadata": {},
   "source": [
    "## Decision Tree"
   ]
  },
  {
   "cell_type": "code",
   "execution_count": 342,
   "id": "89bc7743",
   "metadata": {},
   "outputs": [
    {
     "name": "stdout",
     "output_type": "stream",
     "text": [
      "Melhores hiperparâmetros:\n",
      "{'max_depth': 4, 'min_samples_leaf': 1, 'min_samples_split': 4}\n"
     ]
    }
   ],
   "source": [
    "# grid search parameters\n",
    "params = {'max_depth': [2, 3, 4, 5, 6, 7, 8, 9],\n",
    "          'min_samples_split': [2, 3, 4, 5, 6],\n",
    "          'min_samples_leaf': [1, 2, 3]}\n",
    "\n",
    "# create DecisionTreeClassifier object\n",
    "tree = DecisionTreeClassifier(random_state=42)\n",
    "\n",
    "# create KFold object for cross validation\n",
    "skf = StratifiedKFold(n_splits=5, shuffle=True, random_state=42)\n",
    "\n",
    "# create Grid Search object\n",
    "grid_search = GridSearchCV(tree, param_grid=params, scoring='roc_auc',\n",
    "                           cv=skf.split(X_train, y_train))\n",
    "\n",
    "# train model with grid search\n",
    "grid_search.fit(X_train, y_train)\n",
    "print('Melhores hiperparâmetros:')\n",
    "print(grid_search.best_params_)\n",
    "\n",
    "\n",
    "# --> Model creation with the best parameters\n",
    "\n",
    "tree = DecisionTreeClassifier(random_state=42, max_depth=grid_search.best_params_['max_depth'],\n",
    "                                min_samples_split=grid_search.best_params_['min_samples_split'],\n",
    "                                min_samples_leaf=grid_search.best_params_['min_samples_leaf'])\n",
    "\n",
    "# # model fit with train dataset\n",
    "tree.fit(X_train, y_train)\n",
    "\n",
    "# predict test dataset\n",
    "y_pred_tree = tree.predict(X_test)"
   ]
  },
  {
   "cell_type": "code",
   "execution_count": 343,
   "id": "d6ff9481",
   "metadata": {},
   "outputs": [
    {
     "data": {
      "image/png": "[encoded data removed]",
      "text/plain": [
       "<Figure size 360x360 with 1 Axes>"
      ]
     },
     "metadata": {},
     "output_type": "display_data"
    }
   ],
   "source": [
    "plot_feature_importances(tree, X, tree.feature_importances_)"
   ]
  },
  {
   "cell_type": "code",
   "execution_count": 345,
   "id": "cf1291d8",
   "metadata": {},
   "outputs": [
    {
     "name": "stdout",
     "output_type": "stream",
     "text": [
      "Train accuracy: 0.87\n",
      "Test accuracy: 0.81\n",
      "\n",
      "              precision    recall  f1-score   support\n",
      "\n",
      "           0       0.86      0.69      0.77        26\n",
      "           1       0.78      0.90      0.84        31\n",
      "\n",
      "    accuracy                           0.81        57\n",
      "   macro avg       0.82      0.80      0.80        57\n",
      "weighted avg       0.81      0.81      0.80        57\n",
      "\n",
      "ROC curve area: 0.80\n"
     ]
    }
   ],
   "source": [
    "print(\"Train accuracy: {:.2f}\".format(tree.score(X_train, y_train)))\n",
    "print(\"Test accuracy: {:.2f}\\n\".format(tree.score(X_test, y_test)))\n",
    "print(classification_report(y_test, y_pred_tree))\n",
    "print(\"ROC curve area: {:.2f}\".format(roc_auc_score(y_test, y_pred_tree)))"
   ]
  },
  {
   "cell_type": "code",
   "execution_count": 336,
   "id": "295859ea",
   "metadata": {},
   "outputs": [
    {
     "data": {
      "image/png": "[encoded data removed]",
      "text/plain": [
       "<Figure size 432x288 with 1 Axes>"
      ]
     },
     "metadata": {},
     "output_type": "display_data"
    }
   ],
   "source": [
    "plot_roc_curve(tree, X_test, y_test)"
   ]
  },
  {
   "cell_type": "code",
   "execution_count": 357,
   "id": "6dd1f8a3",
   "metadata": {},
   "outputs": [
    {
     "name": "stdout",
     "output_type": "stream",
     "text": [
      "Train Accuracy: 100.00%\n",
      "Test Accuracy: 71.93%\n",
      "--- CLASSIFICATION REPORT ---\n",
      "              precision    recall  f1-score   support\n",
      "\n",
      "           0       0.83      0.77      0.80        26\n",
      "           1       0.82      0.87      0.84        31\n",
      "\n",
      "    accuracy                           0.82        57\n",
      "   macro avg       0.83      0.82      0.82        57\n",
      "weighted avg       0.83      0.82      0.82        57\n",
      "\n",
      "--- CONFUSION MATRIX ---\n"
     ]
    },
    {
     "data": {
      "image/png": "[encoded data removed]",
      "text/plain": [
       "<Figure size 432x288 with 2 Axes>"
      ]
     },
     "metadata": {},
     "output_type": "display_data"
    }
   ],
   "source": [
    "tree_train, tree_test = ml_summary(df, DecisionTreeClassifier)"
   ]
  },
  {
   "cell_type": "markdown",
   "id": "655f5bc7",
   "metadata": {},
   "source": [
    "## Ada Boost Classifier"
   ]
  },
  {
   "cell_type": "code",
   "execution_count": 358,
   "id": "510b5925",
   "metadata": {},
   "outputs": [
    {
     "name": "stdout",
     "output_type": "stream",
     "text": [
      "Train Accuracy: 93.36%\n",
      "Test Accuracy: 78.95%\n",
      "--- CLASSIFICATION REPORT ---\n",
      "              precision    recall  f1-score   support\n",
      "\n",
      "           0       0.83      0.77      0.80        26\n",
      "           1       0.82      0.87      0.84        31\n",
      "\n",
      "    accuracy                           0.82        57\n",
      "   macro avg       0.83      0.82      0.82        57\n",
      "weighted avg       0.83      0.82      0.82        57\n",
      "\n",
      "--- CONFUSION MATRIX ---\n"
     ]
    },
    {
     "data": {
      "image/png": "[encoded data removed]",
      "text/plain": [
       "<Figure size 432x288 with 2 Axes>"
      ]
     },
     "metadata": {},
     "output_type": "display_data"
    }
   ],
   "source": [
    "ada_train, ada_test = ml_summary(df, AdaBoostClassifier)"
   ]
  },
  {
   "cell_type": "markdown",
   "id": "9ba257a4",
   "metadata": {},
   "source": [
    "## K-Nearest Neighbors"
   ]
  },
  {
   "cell_type": "code",
   "execution_count": 365,
   "id": "8864dc7e",
   "metadata": {},
   "outputs": [
    {
     "name": "stdout",
     "output_type": "stream",
     "text": [
      "Train Accuracy: 77.43%\n",
      "Test Accuracy: 61.40%\n",
      "--- CLASSIFICATION REPORT ---\n",
      "              precision    recall  f1-score   support\n",
      "\n",
      "           0       0.83      0.77      0.80        26\n",
      "           1       0.82      0.87      0.84        31\n",
      "\n",
      "    accuracy                           0.82        57\n",
      "   macro avg       0.83      0.82      0.82        57\n",
      "weighted avg       0.83      0.82      0.82        57\n",
      "\n",
      "--- CONFUSION MATRIX ---\n"
     ]
    },
    {
     "data": {
      "image/png": "[encoded data removed]",
      "text/plain": [
       "<Figure size 432x288 with 2 Axes>"
      ]
     },
     "metadata": {},
     "output_type": "display_data"
    }
   ],
   "source": [
    "kn_train, kn_test = ml_summary(df, KNeighborsClassifier)"
   ]
  },
  {
   "cell_type": "markdown",
   "id": "42b60fe6",
   "metadata": {},
   "source": [
    "## XGBoost"
   ]
  },
  {
   "cell_type": "code",
   "execution_count": 368,
   "id": "6ecf447f",
   "metadata": {},
   "outputs": [
    {
     "name": "stdout",
     "output_type": "stream",
     "text": [
      "Best hyperparameters:\n",
      "{'alpha': 5, 'colsample_bytree': 0.3, 'learning_rate': 0.3, 'max_depth': 5}\n",
      "Mean accuracy from test dataset: 0.892 +/- 0.034\n"
     ]
    }
   ],
   "source": [
    "# grid search parameters\n",
    "params = {'learning_rate': [0.1, 0.2, 0.3],\n",
    "          'alpha': [5, 10, 15],\n",
    "          'colsample_bytree': [0.1, 0.3, 0.5, 0.7, 1.0],\n",
    "          'max_depth': [3, 4, 5]}\n",
    "\n",
    "# create XGBoostClassifier object\n",
    "xgb_model = xgb.XGBClassifier(objective=\"binary:logistic\", random_state=42,\n",
    "                              eval_metric=\"auc\", n_estimators=10, use_label_encoder=False)\n",
    "\n",
    "# create KFold object for cross validation\n",
    "skf = StratifiedKFold(n_splits=5, shuffle=True, random_state=42)\n",
    "\n",
    "# create GridSearchCV object\n",
    "grid_search = GridSearchCV(xgb_model, param_grid=params, scoring='roc_auc',\n",
    "                           cv=skf.split(X_train, y_train))\n",
    "\n",
    "# train model with grid search\n",
    "grid_search.fit(X_train, y_train)\n",
    "print('Best hyperparameters:')\n",
    "print(grid_search.best_params_)\n",
    "\n",
    "# cross validation results\n",
    "cv_results = pd.DataFrame(grid_search.cv_results_)\n",
    "print(\"Mean accuracy from test dataset: {:.3f} +/- {:.3f}\".format(\n",
    "  cv_results[cv_results.rank_test_score == 1].mean_test_score.values[0],\n",
    "  cv_results[cv_results.rank_test_score == 1].std_test_score.values[0])\n",
    ")\n",
    "\n",
    "# --> Model creation with the best parameters\n",
    "xgb_model.set_params(learning_rate = grid_search.best_params_['learning_rate'],\n",
    "                     alpha = grid_search.best_params_['alpha'],\n",
    "                     colsample_bytree = grid_search.best_params_['colsample_bytree'],\n",
    "                     max_depth = grid_search.best_params_['max_depth'])\n",
    "\n",
    "# train model with the best hyperparameters\n",
    "xgb_model.fit(X_train, y_train)\n",
    "\n",
    "# predict test dataset\n",
    "y_pred_xgb = xgb_model.predict(X_test)"
   ]
  },
  {
   "cell_type": "code",
   "execution_count": 369,
   "id": "51cb845f",
   "metadata": {},
   "outputs": [
    {
     "data": {
      "image/png": "[encoded data removed]",
      "text/plain": [
       "<Figure size 432x288 with 1 Axes>"
      ]
     },
     "metadata": {},
     "output_type": "display_data"
    }
   ],
   "source": [
    "# feature importances plot\n",
    "xgb.plot_importance(xgb_model)\n",
    "plt.show()"
   ]
  },
  {
   "cell_type": "code",
   "execution_count": 380,
   "id": "9304e1b9",
   "metadata": {},
   "outputs": [
    {
     "name": "stdout",
     "output_type": "stream",
     "text": [
      "Train accuracy: 0.86\n",
      "Test accuracy: 0.79\n",
      "\n",
      "              precision    recall  f1-score   support\n",
      "\n",
      "           0       0.79      0.73      0.76        26\n",
      "           1       0.79      0.84      0.81        31\n",
      "\n",
      "    accuracy                           0.79        57\n",
      "   macro avg       0.79      0.78      0.79        57\n",
      "weighted avg       0.79      0.79      0.79        57\n",
      "\n",
      "ROC curve area: 0.78\n"
     ]
    }
   ],
   "source": [
    "xgb_train = xgb_model.score(X_train, y_train)\n",
    "xgb_test = xgb_model.score(X_test, y_test)\n",
    "print(\"Train accuracy: {:.2f}\".format(xgb_model.score(X_train, y_train)))\n",
    "print(\"Test accuracy: {:.2f}\\n\".format(xgb_model.score(X_test, y_test)))\n",
    "print(classification_report(y_test, y_pred_xgb))\n",
    "print(\"ROC curve area: {:.2f}\".format(roc_auc_score(y_test, y_pred_xgb)))"
   ]
  },
  {
   "cell_type": "code",
   "execution_count": 373,
   "id": "370b5856",
   "metadata": {},
   "outputs": [
    {
     "data": {
      "image/png": "[encoded data removed]",
      "text/plain": [
       "<Figure size 432x288 with 1 Axes>"
      ]
     },
     "metadata": {},
     "output_type": "display_data"
    }
   ],
   "source": [
    "plot_roc_curve(xgb_model, X_test, y_test)"
   ]
  },
  {
   "cell_type": "code",
   "execution_count": 375,
   "id": "fd745492",
   "metadata": {},
   "outputs": [
    {
     "data": {
      "text/plain": [
       "<AxesSubplot:>"
      ]
     },
     "execution_count": 375,
     "metadata": {},
     "output_type": "execute_result"
    },
    {
     "data": {
      "image/png": "[encoded data removed]",
      "text/plain": [
       "<Figure size 432x288 with 2 Axes>"
      ]
     },
     "metadata": {},
     "output_type": "display_data"
    }
   ],
   "source": [
    "confusion = confusion_matrix(y_test, y_pred_xgb)\n",
    "sns.heatmap(confusion, annot=True, cmap='Blues')"
   ]
  },
  {
   "cell_type": "markdown",
   "id": "bbb33541",
   "metadata": {},
   "source": [
    "## Random Forest Classifier"
   ]
  },
  {
   "cell_type": "code",
   "execution_count": 376,
   "id": "45cfad98",
   "metadata": {},
   "outputs": [
    {
     "name": "stdout",
     "output_type": "stream",
     "text": [
      "Train Accuracy: 100.00%\n",
      "Test Accuracy: 80.70%\n",
      "--- CLASSIFICATION REPORT ---\n",
      "              precision    recall  f1-score   support\n",
      "\n",
      "           0       0.83      0.77      0.80        26\n",
      "           1       0.82      0.87      0.84        31\n",
      "\n",
      "    accuracy                           0.82        57\n",
      "   macro avg       0.83      0.82      0.82        57\n",
      "weighted avg       0.83      0.82      0.82        57\n",
      "\n",
      "--- CONFUSION MATRIX ---\n"
     ]
    },
    {
     "data": {
      "image/png": "[encoded data removed]",
      "text/plain": [
       "<Figure size 432x288 with 2 Axes>"
      ]
     },
     "metadata": {},
     "output_type": "display_data"
    }
   ],
   "source": [
    "rand_train, rand_test = ml_summary(df, RandomForestClassifier)"
   ]
  },
  {
   "cell_type": "code",
   "execution_count": 377,
   "id": "78415140",
   "metadata": {},
   "outputs": [
    {
     "name": "stdout",
     "output_type": "stream",
     "text": [
      "Train Accuracy: 100.00%\n",
      "Test Accuracy: 80.70%\n",
      "--- CLASSIFICATION REPORT ---\n",
      "              precision    recall  f1-score   support\n",
      "\n",
      "           0       0.83      0.77      0.80        26\n",
      "           1       0.82      0.87      0.84        31\n",
      "\n",
      "    accuracy                           0.82        57\n",
      "   macro avg       0.83      0.82      0.82        57\n",
      "weighted avg       0.83      0.82      0.82        57\n",
      "\n",
      "--- CONFUSION MATRIX ---\n"
     ]
    },
    {
     "data": {
      "image/png": "[encoded data removed]",
      "text/plain": [
       "<Figure size 432x288 with 2 Axes>"
      ]
     },
     "metadata": {},
     "output_type": "display_data"
    }
   ],
   "source": [
    "rand_train, rand_test = ml_summary(df, RandomForestClassifier, 1)"
   ]
  },
  {
   "cell_type": "markdown",
   "id": "ea3e01b3",
   "metadata": {},
   "source": [
    "## Using Standard Scaler"
   ]
  },
  {
   "cell_type": "code",
   "execution_count": 391,
   "id": "2aab71ad",
   "metadata": {},
   "outputs": [
    {
     "name": "stdout",
     "output_type": "stream",
     "text": [
      "Train Accuracy: 87.61%\n",
      "Test Accuracy: 82.46%\n",
      "--- CLASSIFICATION REPORT ---\n",
      "              precision    recall  f1-score   support\n",
      "\n",
      "           0       0.77      0.77      0.77        26\n",
      "           1       0.81      0.81      0.81        31\n",
      "\n",
      "    accuracy                           0.79        57\n",
      "   macro avg       0.79      0.79      0.79        57\n",
      "weighted avg       0.79      0.79      0.79        57\n",
      "\n",
      "--- CONFUSION MATRIX ---\n"
     ]
    },
    {
     "data": {
      "image/png": "[encoded data removed]",
      "text/plain": [
       "<Figure size 432x288 with 2 Axes>"
      ]
     },
     "metadata": {},
     "output_type": "display_data"
    }
   ],
   "source": [
    "log_train_scaler, log_test_scaler = ml_summary(df, LogisticRegression, opt=0, std_scaler=True)"
   ]
  },
  {
   "cell_type": "code",
   "execution_count": 392,
   "id": "09589d09",
   "metadata": {},
   "outputs": [
    {
     "name": "stdout",
     "output_type": "stream",
     "text": [
      "Train Accuracy: 100.00%\n",
      "Test Accuracy: 75.44%\n",
      "--- CLASSIFICATION REPORT ---\n",
      "              precision    recall  f1-score   support\n",
      "\n",
      "           0       0.77      0.77      0.77        26\n",
      "           1       0.81      0.81      0.81        31\n",
      "\n",
      "    accuracy                           0.79        57\n",
      "   macro avg       0.79      0.79      0.79        57\n",
      "weighted avg       0.79      0.79      0.79        57\n",
      "\n",
      "--- CONFUSION MATRIX ---\n"
     ]
    },
    {
     "data": {
      "image/png": "[encoded data removed]",
      "text/plain": [
       "<Figure size 432x288 with 2 Axes>"
      ]
     },
     "metadata": {},
     "output_type": "display_data"
    }
   ],
   "source": [
    "tree_train_scaler, tree_test_scaler = ml_summary(df, DecisionTreeClassifier, std_scaler=True)"
   ]
  },
  {
   "cell_type": "code",
   "execution_count": 393,
   "id": "de8a76c7",
   "metadata": {},
   "outputs": [
    {
     "name": "stdout",
     "output_type": "stream",
     "text": [
      "Train Accuracy: 93.36%\n",
      "Test Accuracy: 82.46%\n",
      "--- CLASSIFICATION REPORT ---\n",
      "              precision    recall  f1-score   support\n",
      "\n",
      "           0       0.77      0.77      0.77        26\n",
      "           1       0.81      0.81      0.81        31\n",
      "\n",
      "    accuracy                           0.79        57\n",
      "   macro avg       0.79      0.79      0.79        57\n",
      "weighted avg       0.79      0.79      0.79        57\n",
      "\n",
      "--- CONFUSION MATRIX ---\n"
     ]
    },
    {
     "data": {
      "image/png": "[encoded data removed]",
      "text/plain": [
       "<Figure size 432x288 with 2 Axes>"
      ]
     },
     "metadata": {},
     "output_type": "display_data"
    }
   ],
   "source": [
    "ada_train_scaler, ada_test_scaler = ml_summary(df, AdaBoostClassifier, std_scaler=True)"
   ]
  },
  {
   "cell_type": "code",
   "execution_count": 394,
   "id": "db518b1d",
   "metadata": {},
   "outputs": [
    {
     "name": "stdout",
     "output_type": "stream",
     "text": [
      "Train Accuracy: 87.17%\n",
      "Test Accuracy: 80.70%\n",
      "--- CLASSIFICATION REPORT ---\n",
      "              precision    recall  f1-score   support\n",
      "\n",
      "           0       0.77      0.77      0.77        26\n",
      "           1       0.81      0.81      0.81        31\n",
      "\n",
      "    accuracy                           0.79        57\n",
      "   macro avg       0.79      0.79      0.79        57\n",
      "weighted avg       0.79      0.79      0.79        57\n",
      "\n",
      "--- CONFUSION MATRIX ---\n"
     ]
    },
    {
     "data": {
      "image/png": "[encoded data removed]",
      "text/plain": [
       "<Figure size 432x288 with 2 Axes>"
      ]
     },
     "metadata": {},
     "output_type": "display_data"
    }
   ],
   "source": [
    "kn_train_scaler, kn_test_scaler = ml_summary(df, KNeighborsClassifier, std_scaler=True)"
   ]
  },
  {
   "cell_type": "code",
   "execution_count": 397,
   "id": "b1d2feef",
   "metadata": {},
   "outputs": [
    {
     "name": "stdout",
     "output_type": "stream",
     "text": [
      "Train Accuracy: 100.00%\n",
      "Test Accuracy: 82.46%\n",
      "--- CLASSIFICATION REPORT ---\n",
      "              precision    recall  f1-score   support\n",
      "\n",
      "           0       0.77      0.77      0.77        26\n",
      "           1       0.81      0.81      0.81        31\n",
      "\n",
      "    accuracy                           0.79        57\n",
      "   macro avg       0.79      0.79      0.79        57\n",
      "weighted avg       0.79      0.79      0.79        57\n",
      "\n",
      "--- CONFUSION MATRIX ---\n"
     ]
    },
    {
     "data": {
      "image/png": "[encoded data removed]",
      "text/plain": [
       "<Figure size 432x288 with 2 Axes>"
      ]
     },
     "metadata": {},
     "output_type": "display_data"
    }
   ],
   "source": [
    "rand_train_scaler, rand_test_scaler = ml_summary(df, RandomForestClassifier, std_scaler=True)"
   ]
  },
  {
   "cell_type": "markdown",
   "id": "2bccd485",
   "metadata": {},
   "source": [
    "## Sumarizing Accuracies"
   ]
  },
  {
   "cell_type": "code",
   "execution_count": 381,
   "id": "1d963ede",
   "metadata": {},
   "outputs": [
    {
     "data": {
      "text/html": [
       "<div>\n",
       "<style scoped>\n",
       "    .dataframe tbody tr th:only-of-type {\n",
       "        vertical-align: middle;\n",
       "    }\n",
       "\n",
       "    .dataframe tbody tr th {\n",
       "        vertical-align: top;\n",
       "    }\n",
       "\n",
       "    .dataframe thead th {\n",
       "        text-align: right;\n",
       "    }\n",
       "</style>\n",
       "<table border=\"1\" class=\"dataframe\">\n",
       "  <thead>\n",
       "    <tr style=\"text-align: right;\">\n",
       "      <th></th>\n",
       "      <th>Models</th>\n",
       "      <th>Train Accuracy</th>\n",
       "      <th>Test Accuracy</th>\n",
       "    </tr>\n",
       "  </thead>\n",
       "  <tbody>\n",
       "    <tr>\n",
       "      <th>0</th>\n",
       "      <td>Logistic Regression</td>\n",
       "      <td>87.61</td>\n",
       "      <td>82.46</td>\n",
       "    </tr>\n",
       "    <tr>\n",
       "      <th>5</th>\n",
       "      <td>Random Forest</td>\n",
       "      <td>100.00</td>\n",
       "      <td>80.70</td>\n",
       "    </tr>\n",
       "    <tr>\n",
       "      <th>2</th>\n",
       "      <td>Ada Boost</td>\n",
       "      <td>93.36</td>\n",
       "      <td>78.95</td>\n",
       "    </tr>\n",
       "    <tr>\n",
       "      <th>4</th>\n",
       "      <td>XGBoost</td>\n",
       "      <td>86.28</td>\n",
       "      <td>78.95</td>\n",
       "    </tr>\n",
       "    <tr>\n",
       "      <th>1</th>\n",
       "      <td>Decision Tree</td>\n",
       "      <td>100.00</td>\n",
       "      <td>71.93</td>\n",
       "    </tr>\n",
       "    <tr>\n",
       "      <th>3</th>\n",
       "      <td>K-Nearest Neighbors</td>\n",
       "      <td>77.43</td>\n",
       "      <td>61.40</td>\n",
       "    </tr>\n",
       "  </tbody>\n",
       "</table>\n",
       "</div>"
      ],
      "text/plain": [
       "                Models  Train Accuracy  Test Accuracy\n",
       "0  Logistic Regression           87.61          82.46\n",
       "5        Random Forest          100.00          80.70\n",
       "2            Ada Boost           93.36          78.95\n",
       "4              XGBoost           86.28          78.95\n",
       "1        Decision Tree          100.00          71.93\n",
       "3  K-Nearest Neighbors           77.43          61.40"
      ]
     },
     "execution_count": 381,
     "metadata": {},
     "output_type": "execute_result"
    }
   ],
   "source": [
    "data = { 'Models' : ['Logistic Regression', 'Decision Tree', 'Ada Boost', \n",
    "                     'K-Nearest Neighbors', 'XGBoost', 'Random Forest'],\n",
    "         'Train Accuracy' : [round(log_train*100, 2), round(tree_train*100, 2), round(ada_train*100, 2),\n",
    "                            round(kn_train*100, 2), round(xgb_train*100, 2), round(rand_train*100, 2)],\n",
    "         'Test Accuracy' : [round(log_test*100, 2), round(tree_test*100, 2), round(ada_test*100, 2),\n",
    "                            round(kn_test*100, 2), round(xgb_test*100, 2), round(rand_test*100, 2)]\n",
    "       }\n",
    "\n",
    "df_acc = pd.DataFrame(data)\n",
    "df_acc.sort_values(by='Test Accuracy', ascending=False, inplace=True)\n",
    "df_acc"
   ]
  },
  {
   "cell_type": "code",
   "execution_count": 398,
   "id": "7a88bbdd",
   "metadata": {},
   "outputs": [
    {
     "data": {
      "text/html": [
       "<div>\n",
       "<style scoped>\n",
       "    .dataframe tbody tr th:only-of-type {\n",
       "        vertical-align: middle;\n",
       "    }\n",
       "\n",
       "    .dataframe tbody tr th {\n",
       "        vertical-align: top;\n",
       "    }\n",
       "\n",
       "    .dataframe thead th {\n",
       "        text-align: right;\n",
       "    }\n",
       "</style>\n",
       "<table border=\"1\" class=\"dataframe\">\n",
       "  <thead>\n",
       "    <tr style=\"text-align: right;\">\n",
       "      <th></th>\n",
       "      <th>Models</th>\n",
       "      <th>Train Accuracy</th>\n",
       "      <th>Test Accuracy</th>\n",
       "    </tr>\n",
       "  </thead>\n",
       "  <tbody>\n",
       "    <tr>\n",
       "      <th>0</th>\n",
       "      <td>Std Scaler Logistic Regression</td>\n",
       "      <td>87.61</td>\n",
       "      <td>82.46</td>\n",
       "    </tr>\n",
       "    <tr>\n",
       "      <th>2</th>\n",
       "      <td>Std Scaler Ada Boost</td>\n",
       "      <td>93.36</td>\n",
       "      <td>82.46</td>\n",
       "    </tr>\n",
       "    <tr>\n",
       "      <th>4</th>\n",
       "      <td>Std Scaler Random Forest</td>\n",
       "      <td>100.00</td>\n",
       "      <td>82.46</td>\n",
       "    </tr>\n",
       "    <tr>\n",
       "      <th>3</th>\n",
       "      <td>Std Scaler K-Nearest Neighbors</td>\n",
       "      <td>87.17</td>\n",
       "      <td>80.70</td>\n",
       "    </tr>\n",
       "    <tr>\n",
       "      <th>1</th>\n",
       "      <td>Std Scaler Decision Tree</td>\n",
       "      <td>100.00</td>\n",
       "      <td>75.44</td>\n",
       "    </tr>\n",
       "  </tbody>\n",
       "</table>\n",
       "</div>"
      ],
      "text/plain": [
       "                           Models  Train Accuracy  Test Accuracy\n",
       "0  Std Scaler Logistic Regression           87.61          82.46\n",
       "2            Std Scaler Ada Boost           93.36          82.46\n",
       "4        Std Scaler Random Forest          100.00          82.46\n",
       "3  Std Scaler K-Nearest Neighbors           87.17          80.70\n",
       "1        Std Scaler Decision Tree          100.00          75.44"
      ]
     },
     "execution_count": 398,
     "metadata": {},
     "output_type": "execute_result"
    }
   ],
   "source": [
    "data = { 'Models' : ['Std Scaler Logistic Regression', 'Std Scaler Decision Tree', 'Std Scaler Ada Boost', \n",
    "                     'Std Scaler K-Nearest Neighbors', 'Std Scaler Random Forest'],\n",
    "         'Train Accuracy' : [round(log_train_scaler*100, 2), round(tree_train_scaler*100, 2), \n",
    "                             round(ada_train_scaler*100, 2), round(kn_train_scaler*100, 2), \n",
    "                             round(rand_train_scaler*100, 2)],\n",
    "         'Test Accuracy' : [round(log_test_scaler*100, 2), round(tree_test_scaler*100, 2), \n",
    "                            round(ada_test_scaler*100, 2), round(kn_test_scaler*100, 2), round(rand_test_scaler*100, 2)]\n",
    "       }\n",
    "\n",
    "df_acc = pd.DataFrame(data)\n",
    "df_acc.sort_values(by='Test Accuracy', ascending=False, inplace=True)\n",
    "df_acc"
   ]
  },
  {
   "cell_type": "code",
   "execution_count": null,
   "id": "1398308d",
   "metadata": {},
   "outputs": [],
   "source": []
  }
 ],
 "metadata": {
  "kernelspec": {
   "display_name": "Python 3 (ipykernel)",
   "language": "python",
   "name": "python3"
  },
  "language_info": {
   "codemirror_mode": {
    "name": "ipython",
    "version": 3
   },
   "file_extension": ".py",
   "mimetype": "text/x-python",
   "name": "python",
   "nbconvert_exporter": "python",
   "pygments_lexer": "ipython3",
   "version": "3.10.5"
  }
 },
 "nbformat": 4,
 "nbformat_minor": 5
}
